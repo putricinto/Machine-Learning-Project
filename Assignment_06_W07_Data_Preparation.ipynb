{
  "nbformat": 4,
  "nbformat_minor": 0,
  "metadata": {
    "colab": {
      "name": "Assignment #06-W07-Data Preparation",
      "provenance": [],
      "toc_visible": true,
      "authorship_tag": "ABX9TyOV3Dw9+EEKwVFAe0GrjUQX",
      "include_colab_link": true
    },
    "kernelspec": {
      "name": "python3",
      "display_name": "Python 3"
    }
  },
  "cells": [
    {
      "cell_type": "markdown",
      "metadata": {
        "id": "view-in-github",
        "colab_type": "text"
      },
      "source": [
        "<a href=\"https://colab.research.google.com/github/putricinto/Machine-Learning-Project/blob/master/Assignment_06_W07_Data_Preparation.ipynb\" target=\"_parent\"><img src=\"https://colab.research.google.com/assets/colab-badge.svg\" alt=\"Open In Colab\"/></a>"
      ]
    },
    {
      "cell_type": "code",
      "metadata": {
        "id": "3StUVH9XpzG1",
        "colab_type": "code",
        "colab": {}
      },
      "source": [
        "%tensorflow_version 2.x"
      ],
      "execution_count": 0,
      "outputs": []
    },
    {
      "cell_type": "code",
      "metadata": {
        "id": "tu7G9Tdu4kNp",
        "colab_type": "code",
        "colab": {}
      },
      "source": [
        "import pandas as pd\n",
        "import numpy as np\n",
        "from scipy import stats\n",
        "import sys\n",
        "import seaborn as sns\n",
        "import matplotlib.pyplot as plt\n",
        "from sklearn import preprocessing\n",
        "from tensorflow import feature_column\n"
      ],
      "execution_count": 0,
      "outputs": []
    },
    {
      "cell_type": "code",
      "metadata": {
        "id": "mbDXO8te4SF8",
        "colab_type": "code",
        "colab": {
          "base_uri": "https://localhost:8080/",
          "height": 224
        },
        "outputId": "f27e503f-1115-400b-8e74-94ba681c6880"
      },
      "source": [
        "url = 'https://raw.githubusercontent.com/putricinto/Machine-Learning-Project/master/bank.csv'\n",
        "bank = pd.read_csv(url)\n",
        "bank.head()"
      ],
      "execution_count": 89,
      "outputs": [
        {
          "output_type": "execute_result",
          "data": {
            "text/html": [
              "<div>\n",
              "<style scoped>\n",
              "    .dataframe tbody tr th:only-of-type {\n",
              "        vertical-align: middle;\n",
              "    }\n",
              "\n",
              "    .dataframe tbody tr th {\n",
              "        vertical-align: top;\n",
              "    }\n",
              "\n",
              "    .dataframe thead th {\n",
              "        text-align: right;\n",
              "    }\n",
              "</style>\n",
              "<table border=\"1\" class=\"dataframe\">\n",
              "  <thead>\n",
              "    <tr style=\"text-align: right;\">\n",
              "      <th></th>\n",
              "      <th>age</th>\n",
              "      <th>job</th>\n",
              "      <th>marital</th>\n",
              "      <th>education</th>\n",
              "      <th>default</th>\n",
              "      <th>balance</th>\n",
              "      <th>housing</th>\n",
              "      <th>loan</th>\n",
              "      <th>contact</th>\n",
              "      <th>day</th>\n",
              "      <th>month</th>\n",
              "      <th>duration</th>\n",
              "      <th>campaign</th>\n",
              "      <th>pdays</th>\n",
              "      <th>previous</th>\n",
              "      <th>poutcome</th>\n",
              "      <th>deposit</th>\n",
              "    </tr>\n",
              "  </thead>\n",
              "  <tbody>\n",
              "    <tr>\n",
              "      <th>0</th>\n",
              "      <td>59</td>\n",
              "      <td>admin.</td>\n",
              "      <td>married</td>\n",
              "      <td>secondary</td>\n",
              "      <td>no</td>\n",
              "      <td>2343</td>\n",
              "      <td>yes</td>\n",
              "      <td>no</td>\n",
              "      <td>unknown</td>\n",
              "      <td>5</td>\n",
              "      <td>may</td>\n",
              "      <td>1042</td>\n",
              "      <td>1</td>\n",
              "      <td>-1</td>\n",
              "      <td>0</td>\n",
              "      <td>unknown</td>\n",
              "      <td>yes</td>\n",
              "    </tr>\n",
              "    <tr>\n",
              "      <th>1</th>\n",
              "      <td>56</td>\n",
              "      <td>admin.</td>\n",
              "      <td>married</td>\n",
              "      <td>secondary</td>\n",
              "      <td>no</td>\n",
              "      <td>45</td>\n",
              "      <td>no</td>\n",
              "      <td>no</td>\n",
              "      <td>unknown</td>\n",
              "      <td>5</td>\n",
              "      <td>may</td>\n",
              "      <td>1467</td>\n",
              "      <td>1</td>\n",
              "      <td>-1</td>\n",
              "      <td>0</td>\n",
              "      <td>unknown</td>\n",
              "      <td>yes</td>\n",
              "    </tr>\n",
              "    <tr>\n",
              "      <th>2</th>\n",
              "      <td>41</td>\n",
              "      <td>technician</td>\n",
              "      <td>married</td>\n",
              "      <td>secondary</td>\n",
              "      <td>no</td>\n",
              "      <td>1270</td>\n",
              "      <td>yes</td>\n",
              "      <td>no</td>\n",
              "      <td>unknown</td>\n",
              "      <td>5</td>\n",
              "      <td>may</td>\n",
              "      <td>1389</td>\n",
              "      <td>1</td>\n",
              "      <td>-1</td>\n",
              "      <td>0</td>\n",
              "      <td>unknown</td>\n",
              "      <td>yes</td>\n",
              "    </tr>\n",
              "    <tr>\n",
              "      <th>3</th>\n",
              "      <td>55</td>\n",
              "      <td>services</td>\n",
              "      <td>married</td>\n",
              "      <td>secondary</td>\n",
              "      <td>no</td>\n",
              "      <td>2476</td>\n",
              "      <td>yes</td>\n",
              "      <td>no</td>\n",
              "      <td>unknown</td>\n",
              "      <td>5</td>\n",
              "      <td>may</td>\n",
              "      <td>579</td>\n",
              "      <td>1</td>\n",
              "      <td>-1</td>\n",
              "      <td>0</td>\n",
              "      <td>unknown</td>\n",
              "      <td>yes</td>\n",
              "    </tr>\n",
              "    <tr>\n",
              "      <th>4</th>\n",
              "      <td>54</td>\n",
              "      <td>admin.</td>\n",
              "      <td>married</td>\n",
              "      <td>tertiary</td>\n",
              "      <td>no</td>\n",
              "      <td>184</td>\n",
              "      <td>no</td>\n",
              "      <td>no</td>\n",
              "      <td>unknown</td>\n",
              "      <td>5</td>\n",
              "      <td>may</td>\n",
              "      <td>673</td>\n",
              "      <td>2</td>\n",
              "      <td>-1</td>\n",
              "      <td>0</td>\n",
              "      <td>unknown</td>\n",
              "      <td>yes</td>\n",
              "    </tr>\n",
              "  </tbody>\n",
              "</table>\n",
              "</div>"
            ],
            "text/plain": [
              "   age         job  marital  education  ... pdays  previous poutcome deposit\n",
              "0   59      admin.  married  secondary  ...    -1         0  unknown     yes\n",
              "1   56      admin.  married  secondary  ...    -1         0  unknown     yes\n",
              "2   41  technician  married  secondary  ...    -1         0  unknown     yes\n",
              "3   55    services  married  secondary  ...    -1         0  unknown     yes\n",
              "4   54      admin.  married   tertiary  ...    -1         0  unknown     yes\n",
              "\n",
              "[5 rows x 17 columns]"
            ]
          },
          "metadata": {
            "tags": []
          },
          "execution_count": 89
        }
      ]
    },
    {
      "cell_type": "code",
      "metadata": {
        "id": "6oGpfduG4sw6",
        "colab_type": "code",
        "colab": {
          "base_uri": "https://localhost:8080/",
          "height": 323
        },
        "outputId": "510077f5-29cc-452e-9889-45769adaedfc"
      },
      "source": [
        "#Define Type of Features\n",
        "bank.dtypes"
      ],
      "execution_count": 90,
      "outputs": [
        {
          "output_type": "execute_result",
          "data": {
            "text/plain": [
              "age           int64\n",
              "job          object\n",
              "marital      object\n",
              "education    object\n",
              "default      object\n",
              "balance       int64\n",
              "housing      object\n",
              "loan         object\n",
              "contact      object\n",
              "day           int64\n",
              "month        object\n",
              "duration      int64\n",
              "campaign      int64\n",
              "pdays         int64\n",
              "previous      int64\n",
              "poutcome     object\n",
              "deposit      object\n",
              "dtype: object"
            ]
          },
          "metadata": {
            "tags": []
          },
          "execution_count": 90
        }
      ]
    },
    {
      "cell_type": "markdown",
      "metadata": {
        "id": "4kDuw3dC5dXs",
        "colab_type": "text"
      },
      "source": [
        "# **Descriptive Statistics**"
      ]
    },
    {
      "cell_type": "code",
      "metadata": {
        "id": "e_XkeQth43tP",
        "colab_type": "code",
        "colab": {}
      },
      "source": [
        "#Changing Day Variable into object\n",
        "bank['day'] = bank['day'].astype(str)"
      ],
      "execution_count": 0,
      "outputs": []
    },
    {
      "cell_type": "code",
      "metadata": {
        "id": "YkMXLnlV5Hzd",
        "colab_type": "code",
        "colab": {
          "base_uri": "https://localhost:8080/",
          "height": 297
        },
        "outputId": "e56fd234-2b22-4246-ccb5-d0f3bc584424"
      },
      "source": [
        "bank.describe()"
      ],
      "execution_count": 92,
      "outputs": [
        {
          "output_type": "execute_result",
          "data": {
            "text/html": [
              "<div>\n",
              "<style scoped>\n",
              "    .dataframe tbody tr th:only-of-type {\n",
              "        vertical-align: middle;\n",
              "    }\n",
              "\n",
              "    .dataframe tbody tr th {\n",
              "        vertical-align: top;\n",
              "    }\n",
              "\n",
              "    .dataframe thead th {\n",
              "        text-align: right;\n",
              "    }\n",
              "</style>\n",
              "<table border=\"1\" class=\"dataframe\">\n",
              "  <thead>\n",
              "    <tr style=\"text-align: right;\">\n",
              "      <th></th>\n",
              "      <th>age</th>\n",
              "      <th>balance</th>\n",
              "      <th>duration</th>\n",
              "      <th>campaign</th>\n",
              "      <th>pdays</th>\n",
              "      <th>previous</th>\n",
              "    </tr>\n",
              "  </thead>\n",
              "  <tbody>\n",
              "    <tr>\n",
              "      <th>count</th>\n",
              "      <td>11162.000000</td>\n",
              "      <td>11162.000000</td>\n",
              "      <td>11162.000000</td>\n",
              "      <td>11162.000000</td>\n",
              "      <td>11162.000000</td>\n",
              "      <td>11162.000000</td>\n",
              "    </tr>\n",
              "    <tr>\n",
              "      <th>mean</th>\n",
              "      <td>41.231948</td>\n",
              "      <td>1528.538524</td>\n",
              "      <td>371.993818</td>\n",
              "      <td>2.508421</td>\n",
              "      <td>51.330407</td>\n",
              "      <td>0.832557</td>\n",
              "    </tr>\n",
              "    <tr>\n",
              "      <th>std</th>\n",
              "      <td>11.913369</td>\n",
              "      <td>3225.413326</td>\n",
              "      <td>347.128386</td>\n",
              "      <td>2.722077</td>\n",
              "      <td>108.758282</td>\n",
              "      <td>2.292007</td>\n",
              "    </tr>\n",
              "    <tr>\n",
              "      <th>min</th>\n",
              "      <td>18.000000</td>\n",
              "      <td>-6847.000000</td>\n",
              "      <td>2.000000</td>\n",
              "      <td>1.000000</td>\n",
              "      <td>-1.000000</td>\n",
              "      <td>0.000000</td>\n",
              "    </tr>\n",
              "    <tr>\n",
              "      <th>25%</th>\n",
              "      <td>32.000000</td>\n",
              "      <td>122.000000</td>\n",
              "      <td>138.000000</td>\n",
              "      <td>1.000000</td>\n",
              "      <td>-1.000000</td>\n",
              "      <td>0.000000</td>\n",
              "    </tr>\n",
              "    <tr>\n",
              "      <th>50%</th>\n",
              "      <td>39.000000</td>\n",
              "      <td>550.000000</td>\n",
              "      <td>255.000000</td>\n",
              "      <td>2.000000</td>\n",
              "      <td>-1.000000</td>\n",
              "      <td>0.000000</td>\n",
              "    </tr>\n",
              "    <tr>\n",
              "      <th>75%</th>\n",
              "      <td>49.000000</td>\n",
              "      <td>1708.000000</td>\n",
              "      <td>496.000000</td>\n",
              "      <td>3.000000</td>\n",
              "      <td>20.750000</td>\n",
              "      <td>1.000000</td>\n",
              "    </tr>\n",
              "    <tr>\n",
              "      <th>max</th>\n",
              "      <td>95.000000</td>\n",
              "      <td>81204.000000</td>\n",
              "      <td>3881.000000</td>\n",
              "      <td>63.000000</td>\n",
              "      <td>854.000000</td>\n",
              "      <td>58.000000</td>\n",
              "    </tr>\n",
              "  </tbody>\n",
              "</table>\n",
              "</div>"
            ],
            "text/plain": [
              "                age       balance  ...         pdays      previous\n",
              "count  11162.000000  11162.000000  ...  11162.000000  11162.000000\n",
              "mean      41.231948   1528.538524  ...     51.330407      0.832557\n",
              "std       11.913369   3225.413326  ...    108.758282      2.292007\n",
              "min       18.000000  -6847.000000  ...     -1.000000      0.000000\n",
              "25%       32.000000    122.000000  ...     -1.000000      0.000000\n",
              "50%       39.000000    550.000000  ...     -1.000000      0.000000\n",
              "75%       49.000000   1708.000000  ...     20.750000      1.000000\n",
              "max       95.000000  81204.000000  ...    854.000000     58.000000\n",
              "\n",
              "[8 rows x 6 columns]"
            ]
          },
          "metadata": {
            "tags": []
          },
          "execution_count": 92
        }
      ]
    },
    {
      "cell_type": "markdown",
      "metadata": {
        "id": "4w2f66g35q19",
        "colab_type": "text"
      },
      "source": [
        "# **Data Visualization**"
      ]
    },
    {
      "cell_type": "code",
      "metadata": {
        "id": "BNggBXdW5j2v",
        "colab_type": "code",
        "colab": {
          "base_uri": "https://localhost:8080/",
          "height": 264
        },
        "outputId": "f691098f-7978-4d94-d365-c8625830afc8"
      },
      "source": [
        "#Pie Chart of Deposit Variable (Label)\n",
        "y=list(bank['deposit'])\n",
        "labels = 'yes', 'no'\n",
        "sizes = [y.count('yes'), y.count('no')]\n",
        "\n",
        "fig1, ax1 = plt.subplots()\n",
        "ax1.pie(sizes, labels=labels, autopct='%1.1f%%', startangle=90)\n",
        "ax1.axis('equal')  # Equal aspect ratio ensures that pie is drawn as a circle.\n",
        "ax1.set_title('Deposit')\n",
        "\n",
        "plt.show()"
      ],
      "execution_count": 93,
      "outputs": [
        {
          "output_type": "display_data",
          "data": {
            "image/png": "[encoded data removed]",
            "text/plain": [
              "<Figure size 432x288 with 1 Axes>"
            ]
          },
          "metadata": {
            "tags": []
          }
        }
      ]
    },
    {
      "cell_type": "code",
      "metadata": {
        "id": "aA0DflVE54Jb",
        "colab_type": "code",
        "colab": {
          "base_uri": "https://localhost:8080/",
          "height": 607
        },
        "outputId": "11396b4f-b2fa-4ef0-d60d-30ed95c63e56"
      },
      "source": [
        "#Histogram of Numerical Variables\n",
        "fig, axs = plt.subplots(2, 3, figsize=(15, 10))\n",
        "\n",
        "colors = ['pink']\n",
        "axs[0, 0].hist(bank['age'])\n",
        "axs[0, 0].set_title('age')\n",
        "\n",
        "axs[0, 1].hist(bank['balance'])\n",
        "axs[0, 1].set_title('balance')\n",
        "\n",
        "axs[0, 2].hist(bank['duration'])\n",
        "axs[0, 2].set_title('duration')\n",
        "\n",
        "axs[1, 0].hist(bank['campaign'])\n",
        "axs[1, 0].set_title('campaign')\n",
        "\n",
        "axs[1, 1].hist(bank['pdays'])\n",
        "axs[1, 1].set_title('pdays')\n",
        "\n",
        "axs[1, 2].hist(bank['previous'])\n",
        "axs[1, 2].set_title('previous')\n",
        "\n",
        "plt.show()"
      ],
      "execution_count": 94,
      "outputs": [
        {
          "output_type": "display_data",
          "data": {
            "image/png": "[encoded data removed]",
            "text/plain": [
              "<Figure size 1080x720 with 6 Axes>"
            ]
          },
          "metadata": {
            "tags": []
          }
        }
      ]
    },
    {
      "cell_type": "markdown",
      "metadata": {
        "id": "qPpb0myN6WrT",
        "colab_type": "text"
      },
      "source": [
        "# **Data Cleansing**"
      ]
    },
    {
      "cell_type": "markdown",
      "metadata": {
        "id": "vLX6jN-z-XZB",
        "colab_type": "text"
      },
      "source": [
        "**Dealing with outliers**"
      ]
    },
    {
      "cell_type": "code",
      "metadata": {
        "id": "UfPv_Dw-7HkT",
        "colab_type": "code",
        "colab": {
          "base_uri": "https://localhost:8080/",
          "height": 204
        },
        "outputId": "e516dd71-5d8c-40c1-c701-438e1a67722d"
      },
      "source": [
        "bank1=bank.copy()\n",
        "for i in bank1.columns:\n",
        "  if bank1[i].dtypes == 'O':\n",
        "    bank1=bank1.drop([i],1)\n",
        "bank1.head()"
      ],
      "execution_count": 95,
      "outputs": [
        {
          "output_type": "execute_result",
          "data": {
            "text/html": [
              "<div>\n",
              "<style scoped>\n",
              "    .dataframe tbody tr th:only-of-type {\n",
              "        vertical-align: middle;\n",
              "    }\n",
              "\n",
              "    .dataframe tbody tr th {\n",
              "        vertical-align: top;\n",
              "    }\n",
              "\n",
              "    .dataframe thead th {\n",
              "        text-align: right;\n",
              "    }\n",
              "</style>\n",
              "<table border=\"1\" class=\"dataframe\">\n",
              "  <thead>\n",
              "    <tr style=\"text-align: right;\">\n",
              "      <th></th>\n",
              "      <th>age</th>\n",
              "      <th>balance</th>\n",
              "      <th>duration</th>\n",
              "      <th>campaign</th>\n",
              "      <th>pdays</th>\n",
              "      <th>previous</th>\n",
              "    </tr>\n",
              "  </thead>\n",
              "  <tbody>\n",
              "    <tr>\n",
              "      <th>0</th>\n",
              "      <td>59</td>\n",
              "      <td>2343</td>\n",
              "      <td>1042</td>\n",
              "      <td>1</td>\n",
              "      <td>-1</td>\n",
              "      <td>0</td>\n",
              "    </tr>\n",
              "    <tr>\n",
              "      <th>1</th>\n",
              "      <td>56</td>\n",
              "      <td>45</td>\n",
              "      <td>1467</td>\n",
              "      <td>1</td>\n",
              "      <td>-1</td>\n",
              "      <td>0</td>\n",
              "    </tr>\n",
              "    <tr>\n",
              "      <th>2</th>\n",
              "      <td>41</td>\n",
              "      <td>1270</td>\n",
              "      <td>1389</td>\n",
              "      <td>1</td>\n",
              "      <td>-1</td>\n",
              "      <td>0</td>\n",
              "    </tr>\n",
              "    <tr>\n",
              "      <th>3</th>\n",
              "      <td>55</td>\n",
              "      <td>2476</td>\n",
              "      <td>579</td>\n",
              "      <td>1</td>\n",
              "      <td>-1</td>\n",
              "      <td>0</td>\n",
              "    </tr>\n",
              "    <tr>\n",
              "      <th>4</th>\n",
              "      <td>54</td>\n",
              "      <td>184</td>\n",
              "      <td>673</td>\n",
              "      <td>2</td>\n",
              "      <td>-1</td>\n",
              "      <td>0</td>\n",
              "    </tr>\n",
              "  </tbody>\n",
              "</table>\n",
              "</div>"
            ],
            "text/plain": [
              "   age  balance  duration  campaign  pdays  previous\n",
              "0   59     2343      1042         1     -1         0\n",
              "1   56       45      1467         1     -1         0\n",
              "2   41     1270      1389         1     -1         0\n",
              "3   55     2476       579         1     -1         0\n",
              "4   54      184       673         2     -1         0"
            ]
          },
          "metadata": {
            "tags": []
          },
          "execution_count": 95
        }
      ]
    },
    {
      "cell_type": "code",
      "metadata": {
        "id": "KWa87UCj58fu",
        "colab_type": "code",
        "colab": {
          "base_uri": "https://localhost:8080/",
          "height": 153
        },
        "outputId": "405ff374-24cd-4311-9fd7-2d2bd7e63952"
      },
      "source": [
        "z=np.abs(stats.zscore(bank1._get_numeric_data()))\n",
        "print(z)\n",
        "bank=bank[(z<3).all(axis=1)]\n",
        "print(bank.shape)"
      ],
      "execution_count": 96,
      "outputs": [
        {
          "output_type": "stream",
          "text": [
            "[[1.49150488 0.25252514 1.93022589 0.55416834 0.48118405 0.36325984]\n",
            " [1.23967567 0.4599736  3.15461161 0.55416834 0.48118405 0.36325984]\n",
            " [0.0194704  0.0801603  2.92990082 0.55416834 0.48118405 0.36325984]\n",
            " ...\n",
            " [0.77495804 0.46493443 0.62225823 0.18678537 0.48118405 0.36325984]\n",
            " [0.14841574 0.47392593 1.04575164 0.18678537 1.10957066 1.81833188]\n",
            " [0.6070719  0.47392593 0.73753015 0.55416834 0.48118405 0.36325984]]\n",
            "(10098, 17)\n"
          ],
          "name": "stdout"
        }
      ]
    },
    {
      "cell_type": "markdown",
      "metadata": {
        "id": "mKEI_lE_CXDP",
        "colab_type": "text"
      },
      "source": [
        "**Correcting typos**"
      ]
    },
    {
      "cell_type": "code",
      "metadata": {
        "id": "zx4xMP9F-TL0",
        "colab_type": "code",
        "colab": {
          "base_uri": "https://localhost:8080/",
          "height": 272
        },
        "outputId": "5e6bb27b-4cbb-4bee-9162-5793c3646cea"
      },
      "source": [
        "#Checking if there are typos or not for cetgorical fatures\n",
        "unique_value=[]\n",
        "column_name=[]\n",
        "#Correcting Typos\n",
        "for i in bank.columns:\n",
        "  if bank[i].dtypes == 'O':\n",
        "    value_categorical=bank[i].unique()\n",
        "    unique_value.append(value_categorical)\n",
        "    column_name.append(i)\n",
        "    print('Variable',i,'and its unique value are',value_categorical)"
      ],
      "execution_count": 97,
      "outputs": [
        {
          "output_type": "stream",
          "text": [
            "Variable job and its unique value are ['admin.' 'technician' 'services' 'management' 'retired' 'blue-collar'\n",
            " 'unemployed' 'entrepreneur' 'housemaid' 'unknown' 'self-employed'\n",
            " 'student']\n",
            "Variable marital and its unique value are ['married' 'single' 'divorced']\n",
            "Variable education and its unique value are ['secondary' 'tertiary' 'primary' 'unknown']\n",
            "Variable default and its unique value are ['no' 'yes']\n",
            "Variable housing and its unique value are ['yes' 'no']\n",
            "Variable loan and its unique value are ['no' 'yes']\n",
            "Variable contact and its unique value are ['unknown' 'cellular' 'telephone']\n",
            "Variable day and its unique value are ['5' '6' '7' '8' '9' '12' '13' '14' '15' '16' '19' '20' '21' '23' '26'\n",
            " '27' '28' '29' '30' '2' '3' '4' '11' '17' '18' '24' '1' '10' '22' '25'\n",
            " '31']\n",
            "Variable month and its unique value are ['may' 'jun' 'jul' 'aug' 'oct' 'nov' 'dec' 'jan' 'feb' 'mar' 'apr' 'sep']\n",
            "Variable poutcome and its unique value are ['unknown' 'other' 'failure' 'success']\n",
            "Variable deposit and its unique value are ['yes' 'no']\n"
          ],
          "name": "stdout"
        }
      ]
    },
    {
      "cell_type": "markdown",
      "metadata": {
        "id": "Ctv8zMEJCigS",
        "colab_type": "text"
      },
      "source": [
        "**Grouping sparse classes**"
      ]
    },
    {
      "cell_type": "code",
      "metadata": {
        "id": "7as0-_4ICgC1",
        "colab_type": "code",
        "colab": {}
      },
      "source": [
        "#Because Day Variable has large number of distinct values, we can change into week\n",
        "bank['day'] = bank['day'].astype(int)\n",
        "def week(row):\n",
        "    if row['day']<=7:\n",
        "        val = 'week 1'\n",
        "    elif 7<row['day']<=14:\n",
        "        val = 'week 2'\n",
        "    elif 14<row['duration']<=21:\n",
        "        val = 'week 3'\n",
        "    else:\n",
        "        val = 'week 4'\n",
        "    return val\n",
        "bank['week'] = bank.apply(week, axis=1)\n",
        "bank=bank.drop('day',1)"
      ],
      "execution_count": 0,
      "outputs": []
    },
    {
      "cell_type": "markdown",
      "metadata": {
        "id": "tmVMn73ymFDm",
        "colab_type": "text"
      },
      "source": [
        "**Dropping Duplicates**"
      ]
    },
    {
      "cell_type": "code",
      "metadata": {
        "id": "cV9lsGO5lt4n",
        "colab_type": "code",
        "colab": {
          "base_uri": "https://localhost:8080/",
          "height": 34
        },
        "outputId": "281dcb0c-190b-4ac1-84bb-e54636443151"
      },
      "source": [
        "#Dropping Duplicate Value\n",
        "bank = bank.drop_duplicates()\n",
        "bank.shape"
      ],
      "execution_count": 99,
      "outputs": [
        {
          "output_type": "execute_result",
          "data": {
            "text/plain": [
              "(10098, 17)"
            ]
          },
          "metadata": {
            "tags": []
          },
          "execution_count": 99
        }
      ]
    },
    {
      "cell_type": "markdown",
      "metadata": {
        "id": "f7ZktcZqScM1",
        "colab_type": "text"
      },
      "source": [
        "# **Data Transformation**"
      ]
    },
    {
      "cell_type": "markdown",
      "metadata": {
        "id": "ndGQn1yKCDFh",
        "colab_type": "text"
      },
      "source": [
        "**Scaling**"
      ]
    },
    {
      "cell_type": "code",
      "metadata": {
        "id": "QYV__tsSSfgr",
        "colab_type": "code",
        "colab": {
          "base_uri": "https://localhost:8080/",
          "height": 607
        },
        "outputId": "4b211223-d4c7-44ab-dbd6-af13f30a6af1"
      },
      "source": [
        "#Histogram of Numerical Variables\n",
        "fig, axs = plt.subplots(2, 3, figsize=(15, 10))\n",
        "\n",
        "colors = ['pink']\n",
        "axs[0, 0].hist(bank['age'])\n",
        "axs[0, 0].set_title('age')\n",
        "\n",
        "axs[0, 1].hist(bank['balance'])\n",
        "axs[0, 1].set_title('balance')\n",
        "\n",
        "axs[0, 2].hist(bank['duration'])\n",
        "axs[0, 2].set_title('duration')\n",
        "\n",
        "axs[1, 0].hist(bank['campaign'])\n",
        "axs[1, 0].set_title('campaign')\n",
        "\n",
        "axs[1, 1].hist(bank['pdays'])\n",
        "axs[1, 1].set_title('pdays')\n",
        "\n",
        "axs[1, 2].hist(bank['previous'])\n",
        "axs[1, 2].set_title('previous')\n",
        "\n",
        "plt.show()"
      ],
      "execution_count": 100,
      "outputs": [
        {
          "output_type": "display_data",
          "data": {
            "image/png": "[encoded data removed]",
            "text/plain": [
              "<Figure size 1080x720 with 6 Axes>"
            ]
          },
          "metadata": {
            "tags": []
          }
        }
      ]
    },
    {
      "cell_type": "code",
      "metadata": {
        "id": "nY6ZgSFHkz7m",
        "colab_type": "code",
        "colab": {}
      },
      "source": [
        ""
      ],
      "execution_count": 0,
      "outputs": []
    },
    {
      "cell_type": "code",
      "metadata": {
        "id": "yTz4UIN8nA0c",
        "colab_type": "code",
        "colab": {
          "base_uri": "https://localhost:8080/",
          "height": 34
        },
        "outputId": "a6179a26-e75e-4714-c8b5-2d57fc27e3db"
      },
      "source": [
        "bank1=bank.copy()\n",
        "for i in bank1.columns:\n",
        "  if bank1[i].dtypes == 'O':\n",
        "    bank1=bank1.drop([i],1)\n",
        "bank1.shape"
      ],
      "execution_count": 101,
      "outputs": [
        {
          "output_type": "execute_result",
          "data": {
            "text/plain": [
              "(10098, 6)"
            ]
          },
          "metadata": {
            "tags": []
          },
          "execution_count": 101
        }
      ]
    },
    {
      "cell_type": "code",
      "metadata": {
        "id": "pqyV7T2kOaCd",
        "colab_type": "code",
        "colab": {
          "base_uri": "https://localhost:8080/",
          "height": 297
        },
        "outputId": "5fa31d64-400f-4ffa-b3db-8f19e97dfeda"
      },
      "source": [
        "bank1.describe()"
      ],
      "execution_count": 102,
      "outputs": [
        {
          "output_type": "execute_result",
          "data": {
            "text/html": [
              "<div>\n",
              "<style scoped>\n",
              "    .dataframe tbody tr th:only-of-type {\n",
              "        vertical-align: middle;\n",
              "    }\n",
              "\n",
              "    .dataframe tbody tr th {\n",
              "        vertical-align: top;\n",
              "    }\n",
              "\n",
              "    .dataframe thead th {\n",
              "        text-align: right;\n",
              "    }\n",
              "</style>\n",
              "<table border=\"1\" class=\"dataframe\">\n",
              "  <thead>\n",
              "    <tr style=\"text-align: right;\">\n",
              "      <th></th>\n",
              "      <th>age</th>\n",
              "      <th>balance</th>\n",
              "      <th>duration</th>\n",
              "      <th>campaign</th>\n",
              "      <th>pdays</th>\n",
              "      <th>previous</th>\n",
              "    </tr>\n",
              "  </thead>\n",
              "  <tbody>\n",
              "    <tr>\n",
              "      <th>count</th>\n",
              "      <td>10098.000000</td>\n",
              "      <td>10098.000000</td>\n",
              "      <td>10098.000000</td>\n",
              "      <td>10098.000000</td>\n",
              "      <td>10098.000000</td>\n",
              "      <td>10098.000000</td>\n",
              "    </tr>\n",
              "    <tr>\n",
              "      <th>mean</th>\n",
              "      <td>40.713409</td>\n",
              "      <td>1233.583878</td>\n",
              "      <td>349.452664</td>\n",
              "      <td>2.246286</td>\n",
              "      <td>42.568132</td>\n",
              "      <td>0.593286</td>\n",
              "    </tr>\n",
              "    <tr>\n",
              "      <th>std</th>\n",
              "      <td>11.181180</td>\n",
              "      <td>1840.318704</td>\n",
              "      <td>291.533203</td>\n",
              "      <td>1.691887</td>\n",
              "      <td>91.737769</td>\n",
              "      <td>1.334833</td>\n",
              "    </tr>\n",
              "    <tr>\n",
              "      <th>min</th>\n",
              "      <td>18.000000</td>\n",
              "      <td>-6847.000000</td>\n",
              "      <td>2.000000</td>\n",
              "      <td>1.000000</td>\n",
              "      <td>-1.000000</td>\n",
              "      <td>0.000000</td>\n",
              "    </tr>\n",
              "    <tr>\n",
              "      <th>25%</th>\n",
              "      <td>32.000000</td>\n",
              "      <td>113.000000</td>\n",
              "      <td>137.000000</td>\n",
              "      <td>1.000000</td>\n",
              "      <td>-1.000000</td>\n",
              "      <td>0.000000</td>\n",
              "    </tr>\n",
              "    <tr>\n",
              "      <th>50%</th>\n",
              "      <td>38.000000</td>\n",
              "      <td>519.500000</td>\n",
              "      <td>251.000000</td>\n",
              "      <td>2.000000</td>\n",
              "      <td>-1.000000</td>\n",
              "      <td>0.000000</td>\n",
              "    </tr>\n",
              "    <tr>\n",
              "      <th>75%</th>\n",
              "      <td>49.000000</td>\n",
              "      <td>1603.500000</td>\n",
              "      <td>479.000000</td>\n",
              "      <td>3.000000</td>\n",
              "      <td>-1.000000</td>\n",
              "      <td>0.000000</td>\n",
              "    </tr>\n",
              "    <tr>\n",
              "      <th>max</th>\n",
              "      <td>76.000000</td>\n",
              "      <td>11174.000000</td>\n",
              "      <td>1410.000000</td>\n",
              "      <td>10.000000</td>\n",
              "      <td>375.000000</td>\n",
              "      <td>7.000000</td>\n",
              "    </tr>\n",
              "  </tbody>\n",
              "</table>\n",
              "</div>"
            ],
            "text/plain": [
              "                age       balance  ...         pdays      previous\n",
              "count  10098.000000  10098.000000  ...  10098.000000  10098.000000\n",
              "mean      40.713409   1233.583878  ...     42.568132      0.593286\n",
              "std       11.181180   1840.318704  ...     91.737769      1.334833\n",
              "min       18.000000  -6847.000000  ...     -1.000000      0.000000\n",
              "25%       32.000000    113.000000  ...     -1.000000      0.000000\n",
              "50%       38.000000    519.500000  ...     -1.000000      0.000000\n",
              "75%       49.000000   1603.500000  ...     -1.000000      0.000000\n",
              "max       76.000000  11174.000000  ...    375.000000      7.000000\n",
              "\n",
              "[8 rows x 6 columns]"
            ]
          },
          "metadata": {
            "tags": []
          },
          "execution_count": 102
        }
      ]
    },
    {
      "cell_type": "code",
      "metadata": {
        "id": "YpTiTvT_nqN3",
        "colab_type": "code",
        "colab": {}
      },
      "source": [
        "bank_skew=pd.DataFrame()\n",
        "bank_skew['age']=np.sqrt(bank['age'])\n",
        "bank_skew['balance']=bank['balance']\n",
        "bank_skew['duration']=np.sqrt(bank['duration'])\n",
        "bank_skew['campaign']=bank['campaign']\n",
        "bank_skew['pdays']=bank['pdays']\n",
        "bank_skew['previous']=bank['previous']"
      ],
      "execution_count": 0,
      "outputs": []
    },
    {
      "cell_type": "markdown",
      "metadata": {
        "id": "Ao4epHzXp5td",
        "colab_type": "text"
      },
      "source": [
        "**Scaling**"
      ]
    },
    {
      "cell_type": "code",
      "metadata": {
        "id": "78a8vI_YnGGg",
        "colab_type": "code",
        "colab": {}
      },
      "source": [
        "from sklearn.preprocessing import StandardScaler\n",
        "scaler = StandardScaler()\n",
        "xnorm=scaler.fit_transform(bank1)\n",
        "xnorm=pd.DataFrame(xnorm)"
      ],
      "execution_count": 0,
      "outputs": []
    },
    {
      "cell_type": "code",
      "metadata": {
        "id": "4kRdkqYlnDXJ",
        "colab_type": "code",
        "colab": {
          "base_uri": "https://localhost:8080/",
          "height": 607
        },
        "outputId": "b8e26192-c62b-4a3c-daeb-f7d6cda7fa78"
      },
      "source": [
        "#Histogram of Numerical Variables\n",
        "fig, axs = plt.subplots(2, 3, figsize=(15, 10))\n",
        "\n",
        "colors = ['pink']\n",
        "axs[0, 0].hist(xnorm[0])\n",
        "axs[0, 0].set_title('age')\n",
        "\n",
        "axs[0, 1].hist(xnorm[1])\n",
        "axs[0, 1].set_title('balance')\n",
        "\n",
        "axs[0, 2].hist(xnorm[2])\n",
        "axs[0, 2].set_title('duration')\n",
        "\n",
        "axs[1, 0].hist(xnorm[3])\n",
        "axs[1, 0].set_title('campaign')\n",
        "\n",
        "axs[1, 1].hist(xnorm[4])\n",
        "axs[1, 1].set_title('pdays')\n",
        "\n",
        "axs[1, 2].hist(xnorm[5])\n",
        "axs[1, 2].set_title('previous')\n",
        "\n",
        "plt.show()"
      ],
      "execution_count": 105,
      "outputs": [
        {
          "output_type": "display_data",
          "data": {
            "image/png": "[encoded data removed]",
            "text/plain": [
              "<Figure size 1080x720 with 6 Axes>"
            ]
          },
          "metadata": {
            "tags": []
          }
        }
      ]
    },
    {
      "cell_type": "code",
      "metadata": {
        "id": "9m1kHP8CrQBj",
        "colab_type": "code",
        "colab": {}
      },
      "source": [
        "bank=bank.drop(['age','pdays','previous','balance','campaign','duration'],1)\n",
        "bank=np.array(bank)\n",
        "bank=pd.DataFrame(bank)"
      ],
      "execution_count": 0,
      "outputs": []
    },
    {
      "cell_type": "code",
      "metadata": {
        "id": "2w9Xg3BFqDm-",
        "colab_type": "code",
        "colab": {}
      },
      "source": [
        "bank['age']=xnorm[0]\n",
        "bank['balance']=xnorm[1]\n",
        "bank['duration']=xnorm[2]\n",
        "bank['campaign']=xnorm[3]\n",
        "bank['pdays']=xnorm[4]\n",
        "bank['previous']=xnorm[5]"
      ],
      "execution_count": 0,
      "outputs": []
    },
    {
      "cell_type": "code",
      "metadata": {
        "id": "4mgvVkKmqpxD",
        "colab_type": "code",
        "colab": {}
      },
      "source": [
        "bank=bank.rename(columns={0:'job',1:'marital',2:'education',3:'default',4:'housing',5:'loan',6:'contact',7:'month',8:'poutcome',9:'deposit',10:'week'})"
      ],
      "execution_count": 0,
      "outputs": []
    },
    {
      "cell_type": "code",
      "metadata": {
        "id": "6IPiE5JAixUt",
        "colab_type": "code",
        "colab": {
          "base_uri": "https://localhost:8080/",
          "height": 425
        },
        "outputId": "6e049d90-5f0b-47ca-8e14-d1849e6e745f"
      },
      "source": [
        "bank.info()"
      ],
      "execution_count": 109,
      "outputs": [
        {
          "output_type": "stream",
          "text": [
            "<class 'pandas.core.frame.DataFrame'>\n",
            "RangeIndex: 10098 entries, 0 to 10097\n",
            "Data columns (total 17 columns):\n",
            " #   Column     Non-Null Count  Dtype  \n",
            "---  ------     --------------  -----  \n",
            " 0   job        10098 non-null  object \n",
            " 1   marital    10098 non-null  object \n",
            " 2   education  10098 non-null  object \n",
            " 3   default    10098 non-null  object \n",
            " 4   housing    10098 non-null  object \n",
            " 5   loan       10098 non-null  object \n",
            " 6   contact    10098 non-null  object \n",
            " 7   month      10098 non-null  object \n",
            " 8   poutcome   10098 non-null  object \n",
            " 9   deposit    10098 non-null  object \n",
            " 10  week       10098 non-null  object \n",
            " 11  age        10098 non-null  float64\n",
            " 12  balance    10098 non-null  float64\n",
            " 13  duration   10098 non-null  float64\n",
            " 14  campaign   10098 non-null  float64\n",
            " 15  pdays      10098 non-null  float64\n",
            " 16  previous   10098 non-null  float64\n",
            "dtypes: float64(6), object(11)\n",
            "memory usage: 1.3+ MB\n"
          ],
          "name": "stdout"
        }
      ]
    },
    {
      "cell_type": "code",
      "metadata": {
        "id": "adNpBNtljWLz",
        "colab_type": "code",
        "colab": {}
      },
      "source": [
        "bank['deposit'] = bank['deposit'].replace('yes', 1)\n",
        "bank['deposit'] = bank['deposit'].replace('no', 0)"
      ],
      "execution_count": 0,
      "outputs": []
    },
    {
      "cell_type": "code",
      "metadata": {
        "id": "JPo25N14jZ1n",
        "colab_type": "code",
        "colab": {
          "base_uri": "https://localhost:8080/",
          "height": 326
        },
        "outputId": "4a52c8f9-0db1-4a39-ad3b-ad9c5aa50f7b"
      },
      "source": [
        "sns.heatmap(bank.corr())"
      ],
      "execution_count": 111,
      "outputs": [
        {
          "output_type": "execute_result",
          "data": {
            "text/plain": [
              "<matplotlib.axes._subplots.AxesSubplot at 0x7fd7e715ef28>"
            ]
          },
          "metadata": {
            "tags": []
          },
          "execution_count": 111
        },
        {
          "output_type": "display_data",
          "data": {
            "image/png": "[encoded data removed]",
            "text/plain": [
              "<Figure size 432x288 with 2 Axes>"
            ]
          },
          "metadata": {
            "tags": []
          }
        }
      ]
    },
    {
      "cell_type": "markdown",
      "metadata": {
        "id": "d83FJnFuB-fn",
        "colab_type": "text"
      },
      "source": [
        "**Categorical encoding**"
      ]
    },
    {
      "cell_type": "code",
      "metadata": {
        "id": "bpsdIDE6oATw",
        "colab_type": "code",
        "colab": {}
      },
      "source": [
        "dict_of_feature_column = {}\n",
        "for i in bank.columns:\n",
        "  #for Categorical Features That Only Contain 'Yes' and 'No'-> 1 & 0\n",
        "  if bank[i].unique().dtype == np.object:\n",
        "    if ('yes' and 'no' in bank[i].unique()) and (len(bank[i].unique()) == 2):\n",
        "      bank[i] = bank[i].replace('yes', 1)\n",
        "      bank[i] = bank[i].replace('no', 0)\n",
        "      dict_of_feature_column[i] = feature_column.numeric_column(i)\n",
        "    elif i=='education':\n",
        "      bank[i]=bank[i].replace({'unknown':0,'primary': 1, 'secondary': 2, 'tertiary': 3 })\n",
        "      dict_of_feature_column[i] = feature_column.numeric_column(i)\n",
        "    else:\n",
        "      temp = feature_column.categorical_column_with_vocabulary_list(i, bank[i].unique())\n",
        "      dict_of_feature_column[i] = feature_column.indicator_column(temp)\n",
        "    \n",
        "  else:\n",
        "    dict_of_feature_column[i] = feature_column.numeric_column(i)"
      ],
      "execution_count": 0,
      "outputs": []
    },
    {
      "cell_type": "code",
      "metadata": {
        "id": "F6AxYG9Yj3NP",
        "colab_type": "code",
        "colab": {
          "base_uri": "https://localhost:8080/",
          "height": 326
        },
        "outputId": "96efd668-3edd-4913-a249-aa27badc0284"
      },
      "source": [
        "dict_of_feature_column"
      ],
      "execution_count": 113,
      "outputs": [
        {
          "output_type": "execute_result",
          "data": {
            "text/plain": [
              "{'age': NumericColumn(key='age', shape=(1,), default_value=None, dtype=tf.float32, normalizer_fn=None),\n",
              " 'balance': NumericColumn(key='balance', shape=(1,), default_value=None, dtype=tf.float32, normalizer_fn=None),\n",
              " 'campaign': NumericColumn(key='campaign', shape=(1,), default_value=None, dtype=tf.float32, normalizer_fn=None),\n",
              " 'contact': IndicatorColumn(categorical_column=VocabularyListCategoricalColumn(key='contact', vocabulary_list=('unknown', 'cellular', 'telephone'), dtype=tf.string, default_value=-1, num_oov_buckets=0)),\n",
              " 'default': NumericColumn(key='default', shape=(1,), default_value=None, dtype=tf.float32, normalizer_fn=None),\n",
              " 'deposit': NumericColumn(key='deposit', shape=(1,), default_value=None, dtype=tf.float32, normalizer_fn=None),\n",
              " 'duration': NumericColumn(key='duration', shape=(1,), default_value=None, dtype=tf.float32, normalizer_fn=None),\n",
              " 'education': NumericColumn(key='education', shape=(1,), default_value=None, dtype=tf.float32, normalizer_fn=None),\n",
              " 'housing': NumericColumn(key='housing', shape=(1,), default_value=None, dtype=tf.float32, normalizer_fn=None),\n",
              " 'job': IndicatorColumn(categorical_column=VocabularyListCategoricalColumn(key='job', vocabulary_list=('admin.', 'technician', 'services', 'management', 'retired', 'blue-collar', 'unemployed', 'entrepreneur', 'housemaid', 'unknown', 'self-employed', 'student'), dtype=tf.string, default_value=-1, num_oov_buckets=0)),\n",
              " 'loan': NumericColumn(key='loan', shape=(1,), default_value=None, dtype=tf.float32, normalizer_fn=None),\n",
              " 'marital': IndicatorColumn(categorical_column=VocabularyListCategoricalColumn(key='marital', vocabulary_list=('married', 'single', 'divorced'), dtype=tf.string, default_value=-1, num_oov_buckets=0)),\n",
              " 'month': IndicatorColumn(categorical_column=VocabularyListCategoricalColumn(key='month', vocabulary_list=('may', 'jun', 'jul', 'aug', 'oct', 'nov', 'dec', 'jan', 'feb', 'mar', 'apr', 'sep'), dtype=tf.string, default_value=-1, num_oov_buckets=0)),\n",
              " 'pdays': NumericColumn(key='pdays', shape=(1,), default_value=None, dtype=tf.float32, normalizer_fn=None),\n",
              " 'poutcome': IndicatorColumn(categorical_column=VocabularyListCategoricalColumn(key='poutcome', vocabulary_list=('unknown', 'other', 'failure', 'success'), dtype=tf.string, default_value=-1, num_oov_buckets=0)),\n",
              " 'previous': NumericColumn(key='previous', shape=(1,), default_value=None, dtype=tf.float32, normalizer_fn=None),\n",
              " 'week': IndicatorColumn(categorical_column=VocabularyListCategoricalColumn(key='week', vocabulary_list=('week 1', 'week 2', 'week 4', 'week 3'), dtype=tf.string, default_value=-1, num_oov_buckets=0))}"
            ]
          },
          "metadata": {
            "tags": []
          },
          "execution_count": 113
        }
      ]
    },
    {
      "cell_type": "code",
      "metadata": {
        "id": "6ea39Sc0j3SQ",
        "colab_type": "code",
        "colab": {}
      },
      "source": [
        ""
      ],
      "execution_count": 0,
      "outputs": []
    },
    {
      "cell_type": "code",
      "metadata": {
        "id": "zJ858gMFj3YQ",
        "colab_type": "code",
        "colab": {}
      },
      "source": [
        ""
      ],
      "execution_count": 0,
      "outputs": []
    },
    {
      "cell_type": "code",
      "metadata": {
        "id": "p2Wt3PrWj3ba",
        "colab_type": "code",
        "colab": {}
      },
      "source": [
        ""
      ],
      "execution_count": 0,
      "outputs": []
    }
  ]
}