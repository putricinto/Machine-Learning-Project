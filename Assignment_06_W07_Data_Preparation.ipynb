{
  "nbformat": 4,
  "nbformat_minor": 0,
  "metadata": {
    "colab": {
      "name": "Assignment #06-W07-Data Preparation",
      "provenance": [],
      "toc_visible": true,
      "authorship_tag": "ABX9TyOcxLjs8os4Pdp6qIs3+UQP",
      "include_colab_link": true
    },
    "kernelspec": {
      "name": "python3",
      "display_name": "Python 3"
    }
  },
  "cells": [
    {
      "cell_type": "markdown",
      "metadata": {
        "id": "view-in-github",
        "colab_type": "text"
      },
      "source": [
        "<a href=\"https://colab.research.google.com/github/putricinto/Machine-Learning-Project/blob/master/Assignment_06_W07_Data_Preparation.ipynb\" target=\"_parent\"><img src=\"https://colab.research.google.com/assets/colab-badge.svg\" alt=\"Open In Colab\"/></a>"
      ]
    },
    {
      "cell_type": "code",
      "metadata": {
        "id": "3StUVH9XpzG1",
        "colab_type": "code",
        "colab": {}
      },
      "source": [
        "%tensorflow_version 2.x"
      ],
      "execution_count": 0,
      "outputs": []
    },
    {
      "cell_type": "code",
      "metadata": {
        "id": "tu7G9Tdu4kNp",
        "colab_type": "code",
        "colab": {}
      },
      "source": [
        "import pandas as pd\n",
        "import numpy as np\n",
        "from scipy import stats\n",
        "import sys\n",
        "import seaborn as sns\n",
        "import matplotlib.pyplot as plt\n",
        "from sklearn import preprocessing\n",
        "from tensorflow import feature_column"
      ],
      "execution_count": 0,
      "outputs": []
    },
    {
      "cell_type": "code",
      "metadata": {
        "id": "mbDXO8te4SF8",
        "colab_type": "code",
        "colab": {
          "base_uri": "https://localhost:8080/",
          "height": 224
        },
        "outputId": "6c9c3382-e0a7-47c0-95fd-64ba08d013c0"
      },
      "source": [
        "url = 'https://raw.githubusercontent.com/putricinto/Machine-Learning-Project/master/bank.csv'\n",
        "bank = pd.read_csv(url)\n",
        "bank.head()"
      ],
      "execution_count": 860,
      "outputs": [
        {
          "output_type": "execute_result",
          "data": {
            "text/html": [
              "<div>\n",
              "<style scoped>\n",
              "    .dataframe tbody tr th:only-of-type {\n",
              "        vertical-align: middle;\n",
              "    }\n",
              "\n",
              "    .dataframe tbody tr th {\n",
              "        vertical-align: top;\n",
              "    }\n",
              "\n",
              "    .dataframe thead th {\n",
              "        text-align: right;\n",
              "    }\n",
              "</style>\n",
              "<table border=\"1\" class=\"dataframe\">\n",
              "  <thead>\n",
              "    <tr style=\"text-align: right;\">\n",
              "      <th></th>\n",
              "      <th>age</th>\n",
              "      <th>job</th>\n",
              "      <th>marital</th>\n",
              "      <th>education</th>\n",
              "      <th>default</th>\n",
              "      <th>balance</th>\n",
              "      <th>housing</th>\n",
              "      <th>loan</th>\n",
              "      <th>contact</th>\n",
              "      <th>day</th>\n",
              "      <th>month</th>\n",
              "      <th>duration</th>\n",
              "      <th>campaign</th>\n",
              "      <th>pdays</th>\n",
              "      <th>previous</th>\n",
              "      <th>poutcome</th>\n",
              "      <th>deposit</th>\n",
              "    </tr>\n",
              "  </thead>\n",
              "  <tbody>\n",
              "    <tr>\n",
              "      <th>0</th>\n",
              "      <td>59</td>\n",
              "      <td>admin.</td>\n",
              "      <td>married</td>\n",
              "      <td>secondary</td>\n",
              "      <td>no</td>\n",
              "      <td>2343</td>\n",
              "      <td>yes</td>\n",
              "      <td>no</td>\n",
              "      <td>unknown</td>\n",
              "      <td>5</td>\n",
              "      <td>may</td>\n",
              "      <td>1042</td>\n",
              "      <td>1</td>\n",
              "      <td>-1</td>\n",
              "      <td>0</td>\n",
              "      <td>unknown</td>\n",
              "      <td>yes</td>\n",
              "    </tr>\n",
              "    <tr>\n",
              "      <th>1</th>\n",
              "      <td>56</td>\n",
              "      <td>admin.</td>\n",
              "      <td>married</td>\n",
              "      <td>secondary</td>\n",
              "      <td>no</td>\n",
              "      <td>45</td>\n",
              "      <td>no</td>\n",
              "      <td>no</td>\n",
              "      <td>unknown</td>\n",
              "      <td>5</td>\n",
              "      <td>may</td>\n",
              "      <td>1467</td>\n",
              "      <td>1</td>\n",
              "      <td>-1</td>\n",
              "      <td>0</td>\n",
              "      <td>unknown</td>\n",
              "      <td>yes</td>\n",
              "    </tr>\n",
              "    <tr>\n",
              "      <th>2</th>\n",
              "      <td>41</td>\n",
              "      <td>technician</td>\n",
              "      <td>married</td>\n",
              "      <td>secondary</td>\n",
              "      <td>no</td>\n",
              "      <td>1270</td>\n",
              "      <td>yes</td>\n",
              "      <td>no</td>\n",
              "      <td>unknown</td>\n",
              "      <td>5</td>\n",
              "      <td>may</td>\n",
              "      <td>1389</td>\n",
              "      <td>1</td>\n",
              "      <td>-1</td>\n",
              "      <td>0</td>\n",
              "      <td>unknown</td>\n",
              "      <td>yes</td>\n",
              "    </tr>\n",
              "    <tr>\n",
              "      <th>3</th>\n",
              "      <td>55</td>\n",
              "      <td>services</td>\n",
              "      <td>married</td>\n",
              "      <td>secondary</td>\n",
              "      <td>no</td>\n",
              "      <td>2476</td>\n",
              "      <td>yes</td>\n",
              "      <td>no</td>\n",
              "      <td>unknown</td>\n",
              "      <td>5</td>\n",
              "      <td>may</td>\n",
              "      <td>579</td>\n",
              "      <td>1</td>\n",
              "      <td>-1</td>\n",
              "      <td>0</td>\n",
              "      <td>unknown</td>\n",
              "      <td>yes</td>\n",
              "    </tr>\n",
              "    <tr>\n",
              "      <th>4</th>\n",
              "      <td>54</td>\n",
              "      <td>admin.</td>\n",
              "      <td>married</td>\n",
              "      <td>tertiary</td>\n",
              "      <td>no</td>\n",
              "      <td>184</td>\n",
              "      <td>no</td>\n",
              "      <td>no</td>\n",
              "      <td>unknown</td>\n",
              "      <td>5</td>\n",
              "      <td>may</td>\n",
              "      <td>673</td>\n",
              "      <td>2</td>\n",
              "      <td>-1</td>\n",
              "      <td>0</td>\n",
              "      <td>unknown</td>\n",
              "      <td>yes</td>\n",
              "    </tr>\n",
              "  </tbody>\n",
              "</table>\n",
              "</div>"
            ],
            "text/plain": [
              "   age         job  marital  education  ... pdays  previous poutcome deposit\n",
              "0   59      admin.  married  secondary  ...    -1         0  unknown     yes\n",
              "1   56      admin.  married  secondary  ...    -1         0  unknown     yes\n",
              "2   41  technician  married  secondary  ...    -1         0  unknown     yes\n",
              "3   55    services  married  secondary  ...    -1         0  unknown     yes\n",
              "4   54      admin.  married   tertiary  ...    -1         0  unknown     yes\n",
              "\n",
              "[5 rows x 17 columns]"
            ]
          },
          "metadata": {
            "tags": []
          },
          "execution_count": 860
        }
      ]
    },
    {
      "cell_type": "code",
      "metadata": {
        "id": "6oGpfduG4sw6",
        "colab_type": "code",
        "colab": {
          "base_uri": "https://localhost:8080/",
          "height": 323
        },
        "outputId": "347a3fb8-2cd8-4640-8461-02f24c3f5d75"
      },
      "source": [
        "#Define Type of Features\n",
        "bank.dtypes"
      ],
      "execution_count": 861,
      "outputs": [
        {
          "output_type": "execute_result",
          "data": {
            "text/plain": [
              "age           int64\n",
              "job          object\n",
              "marital      object\n",
              "education    object\n",
              "default      object\n",
              "balance       int64\n",
              "housing      object\n",
              "loan         object\n",
              "contact      object\n",
              "day           int64\n",
              "month        object\n",
              "duration      int64\n",
              "campaign      int64\n",
              "pdays         int64\n",
              "previous      int64\n",
              "poutcome     object\n",
              "deposit      object\n",
              "dtype: object"
            ]
          },
          "metadata": {
            "tags": []
          },
          "execution_count": 861
        }
      ]
    },
    {
      "cell_type": "markdown",
      "metadata": {
        "id": "qAojEV9a97W9",
        "colab_type": "text"
      },
      "source": [
        "# **Data Exploration**"
      ]
    },
    {
      "cell_type": "markdown",
      "metadata": {
        "id": "4kDuw3dC5dXs",
        "colab_type": "text"
      },
      "source": [
        "## **Descriptive Statistics**"
      ]
    },
    {
      "cell_type": "code",
      "metadata": {
        "id": "e_XkeQth43tP",
        "colab_type": "code",
        "colab": {}
      },
      "source": [
        "#Changing Day Variable into object\n",
        "bank['day'] = bank['day'].astype(str)"
      ],
      "execution_count": 0,
      "outputs": []
    },
    {
      "cell_type": "code",
      "metadata": {
        "id": "YkMXLnlV5Hzd",
        "colab_type": "code",
        "colab": {
          "base_uri": "https://localhost:8080/",
          "height": 297
        },
        "outputId": "2287c41b-6629-40f9-93eb-5c6d8a0adff6"
      },
      "source": [
        "bank.describe()"
      ],
      "execution_count": 863,
      "outputs": [
        {
          "output_type": "execute_result",
          "data": {
            "text/html": [
              "<div>\n",
              "<style scoped>\n",
              "    .dataframe tbody tr th:only-of-type {\n",
              "        vertical-align: middle;\n",
              "    }\n",
              "\n",
              "    .dataframe tbody tr th {\n",
              "        vertical-align: top;\n",
              "    }\n",
              "\n",
              "    .dataframe thead th {\n",
              "        text-align: right;\n",
              "    }\n",
              "</style>\n",
              "<table border=\"1\" class=\"dataframe\">\n",
              "  <thead>\n",
              "    <tr style=\"text-align: right;\">\n",
              "      <th></th>\n",
              "      <th>age</th>\n",
              "      <th>balance</th>\n",
              "      <th>duration</th>\n",
              "      <th>campaign</th>\n",
              "      <th>pdays</th>\n",
              "      <th>previous</th>\n",
              "    </tr>\n",
              "  </thead>\n",
              "  <tbody>\n",
              "    <tr>\n",
              "      <th>count</th>\n",
              "      <td>11162.000000</td>\n",
              "      <td>11162.000000</td>\n",
              "      <td>11162.000000</td>\n",
              "      <td>11162.000000</td>\n",
              "      <td>11162.000000</td>\n",
              "      <td>11162.000000</td>\n",
              "    </tr>\n",
              "    <tr>\n",
              "      <th>mean</th>\n",
              "      <td>41.231948</td>\n",
              "      <td>1528.538524</td>\n",
              "      <td>371.993818</td>\n",
              "      <td>2.508421</td>\n",
              "      <td>51.330407</td>\n",
              "      <td>0.832557</td>\n",
              "    </tr>\n",
              "    <tr>\n",
              "      <th>std</th>\n",
              "      <td>11.913369</td>\n",
              "      <td>3225.413326</td>\n",
              "      <td>347.128386</td>\n",
              "      <td>2.722077</td>\n",
              "      <td>108.758282</td>\n",
              "      <td>2.292007</td>\n",
              "    </tr>\n",
              "    <tr>\n",
              "      <th>min</th>\n",
              "      <td>18.000000</td>\n",
              "      <td>-6847.000000</td>\n",
              "      <td>2.000000</td>\n",
              "      <td>1.000000</td>\n",
              "      <td>-1.000000</td>\n",
              "      <td>0.000000</td>\n",
              "    </tr>\n",
              "    <tr>\n",
              "      <th>25%</th>\n",
              "      <td>32.000000</td>\n",
              "      <td>122.000000</td>\n",
              "      <td>138.000000</td>\n",
              "      <td>1.000000</td>\n",
              "      <td>-1.000000</td>\n",
              "      <td>0.000000</td>\n",
              "    </tr>\n",
              "    <tr>\n",
              "      <th>50%</th>\n",
              "      <td>39.000000</td>\n",
              "      <td>550.000000</td>\n",
              "      <td>255.000000</td>\n",
              "      <td>2.000000</td>\n",
              "      <td>-1.000000</td>\n",
              "      <td>0.000000</td>\n",
              "    </tr>\n",
              "    <tr>\n",
              "      <th>75%</th>\n",
              "      <td>49.000000</td>\n",
              "      <td>1708.000000</td>\n",
              "      <td>496.000000</td>\n",
              "      <td>3.000000</td>\n",
              "      <td>20.750000</td>\n",
              "      <td>1.000000</td>\n",
              "    </tr>\n",
              "    <tr>\n",
              "      <th>max</th>\n",
              "      <td>95.000000</td>\n",
              "      <td>81204.000000</td>\n",
              "      <td>3881.000000</td>\n",
              "      <td>63.000000</td>\n",
              "      <td>854.000000</td>\n",
              "      <td>58.000000</td>\n",
              "    </tr>\n",
              "  </tbody>\n",
              "</table>\n",
              "</div>"
            ],
            "text/plain": [
              "                age       balance  ...         pdays      previous\n",
              "count  11162.000000  11162.000000  ...  11162.000000  11162.000000\n",
              "mean      41.231948   1528.538524  ...     51.330407      0.832557\n",
              "std       11.913369   3225.413326  ...    108.758282      2.292007\n",
              "min       18.000000  -6847.000000  ...     -1.000000      0.000000\n",
              "25%       32.000000    122.000000  ...     -1.000000      0.000000\n",
              "50%       39.000000    550.000000  ...     -1.000000      0.000000\n",
              "75%       49.000000   1708.000000  ...     20.750000      1.000000\n",
              "max       95.000000  81204.000000  ...    854.000000     58.000000\n",
              "\n",
              "[8 rows x 6 columns]"
            ]
          },
          "metadata": {
            "tags": []
          },
          "execution_count": 863
        }
      ]
    },
    {
      "cell_type": "markdown",
      "metadata": {
        "id": "4w2f66g35q19",
        "colab_type": "text"
      },
      "source": [
        "## **Data Visualization**"
      ]
    },
    {
      "cell_type": "code",
      "metadata": {
        "id": "BNggBXdW5j2v",
        "colab_type": "code",
        "colab": {
          "base_uri": "https://localhost:8080/",
          "height": 264
        },
        "outputId": "4923aa78-b5a5-4958-8610-b93baa4975b1"
      },
      "source": [
        "#Pie Chart of Deposit Variable (Label)\n",
        "y=list(bank['deposit'])\n",
        "labels = 'yes', 'no'\n",
        "sizes = [y.count('yes'), y.count('no')]\n",
        "\n",
        "fig1, ax1 = plt.subplots()\n",
        "ax1.pie(sizes, labels=labels, autopct='%1.1f%%', startangle=90)\n",
        "ax1.axis('equal')  # Equal aspect ratio ensures that pie is drawn as a circle.\n",
        "ax1.set_title('Deposit')\n",
        "\n",
        "plt.show()"
      ],
      "execution_count": 864,
      "outputs": [
        {
          "output_type": "display_data",
          "data": {
            "image/png": "[encoded data removed]",
            "text/plain": [
              "<Figure size 432x288 with 1 Axes>"
            ]
          },
          "metadata": {
            "tags": []
          }
        }
      ]
    },
    {
      "cell_type": "code",
      "metadata": {
        "id": "aA0DflVE54Jb",
        "colab_type": "code",
        "colab": {
          "base_uri": "https://localhost:8080/",
          "height": 607
        },
        "outputId": "3f85bb2d-b127-4ae2-ffd5-5774376ccad1"
      },
      "source": [
        "#Histogram of Numerical Variables\n",
        "fig, axs = plt.subplots(2, 3, figsize=(15, 10))\n",
        "\n",
        "colors = ['pink']\n",
        "axs[0, 0].hist(bank['age'])\n",
        "axs[0, 0].set_title('age')\n",
        "\n",
        "axs[0, 1].hist(bank['balance'])\n",
        "axs[0, 1].set_title('balance')\n",
        "\n",
        "axs[0, 2].hist(bank['duration'])\n",
        "axs[0, 2].set_title('duration')\n",
        "\n",
        "axs[1, 0].hist(bank['campaign'])\n",
        "axs[1, 0].set_title('campaign')\n",
        "\n",
        "axs[1, 1].hist(bank['pdays'])\n",
        "axs[1, 1].set_title('pdays')\n",
        "\n",
        "axs[1, 2].hist(bank['previous'])\n",
        "axs[1, 2].set_title('previous')\n",
        "\n",
        "plt.show()"
      ],
      "execution_count": 865,
      "outputs": [
        {
          "output_type": "display_data",
          "data": {
            "image/png": "[encoded data removed]",
            "text/plain": [
              "<Figure size 1080x720 with 6 Axes>"
            ]
          },
          "metadata": {
            "tags": []
          }
        }
      ]
    },
    {
      "cell_type": "markdown",
      "metadata": {
        "id": "axUknzJv-NF1",
        "colab_type": "text"
      },
      "source": [
        "# **Data Preparation**"
      ]
    },
    {
      "cell_type": "markdown",
      "metadata": {
        "id": "qPpb0myN6WrT",
        "colab_type": "text"
      },
      "source": [
        "## **Data Cleansing**"
      ]
    },
    {
      "cell_type": "markdown",
      "metadata": {
        "id": "vLX6jN-z-XZB",
        "colab_type": "text"
      },
      "source": [
        "**Dealing with outliers**"
      ]
    },
    {
      "cell_type": "code",
      "metadata": {
        "id": "UfPv_Dw-7HkT",
        "colab_type": "code",
        "colab": {
          "base_uri": "https://localhost:8080/",
          "height": 204
        },
        "outputId": "8a561b03-2dbf-4848-bba0-71443e9dbc67"
      },
      "source": [
        "bank1=bank.copy()\n",
        "for i in bank1.columns:\n",
        "  if bank1[i].dtypes == 'O':\n",
        "    bank1=bank1.drop([i],1)\n",
        "bank1.head()"
      ],
      "execution_count": 866,
      "outputs": [
        {
          "output_type": "execute_result",
          "data": {
            "text/html": [
              "<div>\n",
              "<style scoped>\n",
              "    .dataframe tbody tr th:only-of-type {\n",
              "        vertical-align: middle;\n",
              "    }\n",
              "\n",
              "    .dataframe tbody tr th {\n",
              "        vertical-align: top;\n",
              "    }\n",
              "\n",
              "    .dataframe thead th {\n",
              "        text-align: right;\n",
              "    }\n",
              "</style>\n",
              "<table border=\"1\" class=\"dataframe\">\n",
              "  <thead>\n",
              "    <tr style=\"text-align: right;\">\n",
              "      <th></th>\n",
              "      <th>age</th>\n",
              "      <th>balance</th>\n",
              "      <th>duration</th>\n",
              "      <th>campaign</th>\n",
              "      <th>pdays</th>\n",
              "      <th>previous</th>\n",
              "    </tr>\n",
              "  </thead>\n",
              "  <tbody>\n",
              "    <tr>\n",
              "      <th>0</th>\n",
              "      <td>59</td>\n",
              "      <td>2343</td>\n",
              "      <td>1042</td>\n",
              "      <td>1</td>\n",
              "      <td>-1</td>\n",
              "      <td>0</td>\n",
              "    </tr>\n",
              "    <tr>\n",
              "      <th>1</th>\n",
              "      <td>56</td>\n",
              "      <td>45</td>\n",
              "      <td>1467</td>\n",
              "      <td>1</td>\n",
              "      <td>-1</td>\n",
              "      <td>0</td>\n",
              "    </tr>\n",
              "    <tr>\n",
              "      <th>2</th>\n",
              "      <td>41</td>\n",
              "      <td>1270</td>\n",
              "      <td>1389</td>\n",
              "      <td>1</td>\n",
              "      <td>-1</td>\n",
              "      <td>0</td>\n",
              "    </tr>\n",
              "    <tr>\n",
              "      <th>3</th>\n",
              "      <td>55</td>\n",
              "      <td>2476</td>\n",
              "      <td>579</td>\n",
              "      <td>1</td>\n",
              "      <td>-1</td>\n",
              "      <td>0</td>\n",
              "    </tr>\n",
              "    <tr>\n",
              "      <th>4</th>\n",
              "      <td>54</td>\n",
              "      <td>184</td>\n",
              "      <td>673</td>\n",
              "      <td>2</td>\n",
              "      <td>-1</td>\n",
              "      <td>0</td>\n",
              "    </tr>\n",
              "  </tbody>\n",
              "</table>\n",
              "</div>"
            ],
            "text/plain": [
              "   age  balance  duration  campaign  pdays  previous\n",
              "0   59     2343      1042         1     -1         0\n",
              "1   56       45      1467         1     -1         0\n",
              "2   41     1270      1389         1     -1         0\n",
              "3   55     2476       579         1     -1         0\n",
              "4   54      184       673         2     -1         0"
            ]
          },
          "metadata": {
            "tags": []
          },
          "execution_count": 866
        }
      ]
    },
    {
      "cell_type": "code",
      "metadata": {
        "id": "KWa87UCj58fu",
        "colab_type": "code",
        "colab": {
          "base_uri": "https://localhost:8080/",
          "height": 153
        },
        "outputId": "f05f1cbd-d95f-45de-fbd2-12b2fb602bbe"
      },
      "source": [
        "z=np.abs(stats.zscore(bank1._get_numeric_data()))\n",
        "print(z)\n",
        "bank=bank[(z<3).all(axis=1)]\n",
        "print(bank.shape)"
      ],
      "execution_count": 867,
      "outputs": [
        {
          "output_type": "stream",
          "text": [
            "[[1.49150488 0.25252514 1.93022589 0.55416834 0.48118405 0.36325984]\n",
            " [1.23967567 0.4599736  3.15461161 0.55416834 0.48118405 0.36325984]\n",
            " [0.0194704  0.0801603  2.92990082 0.55416834 0.48118405 0.36325984]\n",
            " ...\n",
            " [0.77495804 0.46493443 0.62225823 0.18678537 0.48118405 0.36325984]\n",
            " [0.14841574 0.47392593 1.04575164 0.18678537 1.10957066 1.81833188]\n",
            " [0.6070719  0.47392593 0.73753015 0.55416834 0.48118405 0.36325984]]\n",
            "(10098, 17)\n"
          ],
          "name": "stdout"
        }
      ]
    },
    {
      "cell_type": "markdown",
      "metadata": {
        "id": "mKEI_lE_CXDP",
        "colab_type": "text"
      },
      "source": [
        "**Correcting typos**"
      ]
    },
    {
      "cell_type": "code",
      "metadata": {
        "id": "zx4xMP9F-TL0",
        "colab_type": "code",
        "colab": {
          "base_uri": "https://localhost:8080/",
          "height": 272
        },
        "outputId": "6fd91e77-f6f5-4765-86c8-935d131eb789"
      },
      "source": [
        "#Checking if there are typos or not for cetgorical fatures\n",
        "unique_value=[]\n",
        "column_name=[]\n",
        "#Correcting Typos\n",
        "for i in bank.columns:\n",
        "  if bank[i].dtypes == 'O':\n",
        "    value_categorical=bank[i].unique()\n",
        "    unique_value.append(value_categorical)\n",
        "    column_name.append(i)\n",
        "    print('Variable',i,'and its unique value are',value_categorical)"
      ],
      "execution_count": 868,
      "outputs": [
        {
          "output_type": "stream",
          "text": [
            "Variable job and its unique value are ['admin.' 'technician' 'services' 'management' 'retired' 'blue-collar'\n",
            " 'unemployed' 'entrepreneur' 'housemaid' 'unknown' 'self-employed'\n",
            " 'student']\n",
            "Variable marital and its unique value are ['married' 'single' 'divorced']\n",
            "Variable education and its unique value are ['secondary' 'tertiary' 'primary' 'unknown']\n",
            "Variable default and its unique value are ['no' 'yes']\n",
            "Variable housing and its unique value are ['yes' 'no']\n",
            "Variable loan and its unique value are ['no' 'yes']\n",
            "Variable contact and its unique value are ['unknown' 'cellular' 'telephone']\n",
            "Variable day and its unique value are ['5' '6' '7' '8' '9' '12' '13' '14' '15' '16' '19' '20' '21' '23' '26'\n",
            " '27' '28' '29' '30' '2' '3' '4' '11' '17' '18' '24' '1' '10' '22' '25'\n",
            " '31']\n",
            "Variable month and its unique value are ['may' 'jun' 'jul' 'aug' 'oct' 'nov' 'dec' 'jan' 'feb' 'mar' 'apr' 'sep']\n",
            "Variable poutcome and its unique value are ['unknown' 'other' 'failure' 'success']\n",
            "Variable deposit and its unique value are ['yes' 'no']\n"
          ],
          "name": "stdout"
        }
      ]
    },
    {
      "cell_type": "markdown",
      "metadata": {
        "id": "Ctv8zMEJCigS",
        "colab_type": "text"
      },
      "source": [
        "**Grouping sparse classes**"
      ]
    },
    {
      "cell_type": "code",
      "metadata": {
        "id": "7as0-_4ICgC1",
        "colab_type": "code",
        "colab": {}
      },
      "source": [
        "#Because Day Variable has large number of distinct values, we can change into week\n",
        "bank['day'] = bank['day'].astype(int)\n",
        "def week(row):\n",
        "    if row['day']<=7:\n",
        "        val = 'week 1'\n",
        "    elif 7<row['day']<=14:\n",
        "        val = 'week 2'\n",
        "    elif 14<row['duration']<=21:\n",
        "        val = 'week 3'\n",
        "    else:\n",
        "        val = 'week 4'\n",
        "    return val\n",
        "bank['week'] = bank.apply(week, axis=1)\n",
        "bank=bank.drop('day',1)"
      ],
      "execution_count": 0,
      "outputs": []
    },
    {
      "cell_type": "markdown",
      "metadata": {
        "id": "tmVMn73ymFDm",
        "colab_type": "text"
      },
      "source": [
        "**Dropping Duplicates**"
      ]
    },
    {
      "cell_type": "code",
      "metadata": {
        "id": "cV9lsGO5lt4n",
        "colab_type": "code",
        "colab": {
          "base_uri": "https://localhost:8080/",
          "height": 34
        },
        "outputId": "ab95a54e-e6a1-4874-dbf1-bf22b095e2ed"
      },
      "source": [
        "#Dropping Duplicate Value\n",
        "bank = bank.drop_duplicates()\n",
        "bank.shape"
      ],
      "execution_count": 870,
      "outputs": [
        {
          "output_type": "execute_result",
          "data": {
            "text/plain": [
              "(10098, 17)"
            ]
          },
          "metadata": {
            "tags": []
          },
          "execution_count": 870
        }
      ]
    },
    {
      "cell_type": "code",
      "metadata": {
        "id": "w0PfZppH84dV",
        "colab_type": "code",
        "colab": {
          "base_uri": "https://localhost:8080/",
          "height": 297
        },
        "outputId": "b5676b09-b2f4-493a-f323-a33c5c0ebf8a"
      },
      "source": [
        "bank.describe()"
      ],
      "execution_count": 871,
      "outputs": [
        {
          "output_type": "execute_result",
          "data": {
            "text/html": [
              "<div>\n",
              "<style scoped>\n",
              "    .dataframe tbody tr th:only-of-type {\n",
              "        vertical-align: middle;\n",
              "    }\n",
              "\n",
              "    .dataframe tbody tr th {\n",
              "        vertical-align: top;\n",
              "    }\n",
              "\n",
              "    .dataframe thead th {\n",
              "        text-align: right;\n",
              "    }\n",
              "</style>\n",
              "<table border=\"1\" class=\"dataframe\">\n",
              "  <thead>\n",
              "    <tr style=\"text-align: right;\">\n",
              "      <th></th>\n",
              "      <th>age</th>\n",
              "      <th>balance</th>\n",
              "      <th>duration</th>\n",
              "      <th>campaign</th>\n",
              "      <th>pdays</th>\n",
              "      <th>previous</th>\n",
              "    </tr>\n",
              "  </thead>\n",
              "  <tbody>\n",
              "    <tr>\n",
              "      <th>count</th>\n",
              "      <td>10098.000000</td>\n",
              "      <td>10098.000000</td>\n",
              "      <td>10098.000000</td>\n",
              "      <td>10098.000000</td>\n",
              "      <td>10098.000000</td>\n",
              "      <td>10098.000000</td>\n",
              "    </tr>\n",
              "    <tr>\n",
              "      <th>mean</th>\n",
              "      <td>40.713409</td>\n",
              "      <td>1233.583878</td>\n",
              "      <td>349.452664</td>\n",
              "      <td>2.246286</td>\n",
              "      <td>42.568132</td>\n",
              "      <td>0.593286</td>\n",
              "    </tr>\n",
              "    <tr>\n",
              "      <th>std</th>\n",
              "      <td>11.181180</td>\n",
              "      <td>1840.318704</td>\n",
              "      <td>291.533203</td>\n",
              "      <td>1.691887</td>\n",
              "      <td>91.737769</td>\n",
              "      <td>1.334833</td>\n",
              "    </tr>\n",
              "    <tr>\n",
              "      <th>min</th>\n",
              "      <td>18.000000</td>\n",
              "      <td>-6847.000000</td>\n",
              "      <td>2.000000</td>\n",
              "      <td>1.000000</td>\n",
              "      <td>-1.000000</td>\n",
              "      <td>0.000000</td>\n",
              "    </tr>\n",
              "    <tr>\n",
              "      <th>25%</th>\n",
              "      <td>32.000000</td>\n",
              "      <td>113.000000</td>\n",
              "      <td>137.000000</td>\n",
              "      <td>1.000000</td>\n",
              "      <td>-1.000000</td>\n",
              "      <td>0.000000</td>\n",
              "    </tr>\n",
              "    <tr>\n",
              "      <th>50%</th>\n",
              "      <td>38.000000</td>\n",
              "      <td>519.500000</td>\n",
              "      <td>251.000000</td>\n",
              "      <td>2.000000</td>\n",
              "      <td>-1.000000</td>\n",
              "      <td>0.000000</td>\n",
              "    </tr>\n",
              "    <tr>\n",
              "      <th>75%</th>\n",
              "      <td>49.000000</td>\n",
              "      <td>1603.500000</td>\n",
              "      <td>479.000000</td>\n",
              "      <td>3.000000</td>\n",
              "      <td>-1.000000</td>\n",
              "      <td>0.000000</td>\n",
              "    </tr>\n",
              "    <tr>\n",
              "      <th>max</th>\n",
              "      <td>76.000000</td>\n",
              "      <td>11174.000000</td>\n",
              "      <td>1410.000000</td>\n",
              "      <td>10.000000</td>\n",
              "      <td>375.000000</td>\n",
              "      <td>7.000000</td>\n",
              "    </tr>\n",
              "  </tbody>\n",
              "</table>\n",
              "</div>"
            ],
            "text/plain": [
              "                age       balance  ...         pdays      previous\n",
              "count  10098.000000  10098.000000  ...  10098.000000  10098.000000\n",
              "mean      40.713409   1233.583878  ...     42.568132      0.593286\n",
              "std       11.181180   1840.318704  ...     91.737769      1.334833\n",
              "min       18.000000  -6847.000000  ...     -1.000000      0.000000\n",
              "25%       32.000000    113.000000  ...     -1.000000      0.000000\n",
              "50%       38.000000    519.500000  ...     -1.000000      0.000000\n",
              "75%       49.000000   1603.500000  ...     -1.000000      0.000000\n",
              "max       76.000000  11174.000000  ...    375.000000      7.000000\n",
              "\n",
              "[8 rows x 6 columns]"
            ]
          },
          "metadata": {
            "tags": []
          },
          "execution_count": 871
        }
      ]
    },
    {
      "cell_type": "markdown",
      "metadata": {
        "id": "f7ZktcZqScM1",
        "colab_type": "text"
      },
      "source": [
        "## **Data Transformation**"
      ]
    },
    {
      "cell_type": "markdown",
      "metadata": {
        "id": "ndGQn1yKCDFh",
        "colab_type": "text"
      },
      "source": [
        "**Scaling**"
      ]
    },
    {
      "cell_type": "code",
      "metadata": {
        "id": "QYV__tsSSfgr",
        "colab_type": "code",
        "colab": {
          "base_uri": "https://localhost:8080/",
          "height": 607
        },
        "outputId": "e4a9e576-f481-416d-c64f-8b705fc100eb"
      },
      "source": [
        "#Histogram of Numerical Variables\n",
        "fig, axs = plt.subplots(2, 3, figsize=(15, 10))\n",
        "\n",
        "colors = ['pink']\n",
        "axs[0, 0].hist(bank['age'])\n",
        "axs[0, 0].set_title('age')\n",
        "\n",
        "axs[0, 1].hist(bank['balance'])\n",
        "axs[0, 1].set_title('balance')\n",
        "\n",
        "axs[0, 2].hist(bank['duration'])\n",
        "axs[0, 2].set_title('duration')\n",
        "\n",
        "axs[1, 0].hist(bank['campaign'])\n",
        "axs[1, 0].set_title('campaign')\n",
        "\n",
        "axs[1, 1].hist(bank['pdays'])\n",
        "axs[1, 1].set_title('pdays')\n",
        "\n",
        "axs[1, 2].hist(bank['previous'])\n",
        "axs[1, 2].set_title('previous')\n",
        "\n",
        "plt.show()"
      ],
      "execution_count": 872,
      "outputs": [
        {
          "output_type": "display_data",
          "data": {
            "image/png": "[encoded data removed]",
            "text/plain": [
              "<Figure size 1080x720 with 6 Axes>"
            ]
          },
          "metadata": {
            "tags": []
          }
        }
      ]
    },
    {
      "cell_type": "code",
      "metadata": {
        "id": "yTz4UIN8nA0c",
        "colab_type": "code",
        "colab": {
          "base_uri": "https://localhost:8080/",
          "height": 34
        },
        "outputId": "da92a791-4666-4c08-87c7-3f36e4f9ccd1"
      },
      "source": [
        "bank1=bank.copy()\n",
        "for i in bank1.columns:\n",
        "  if bank1[i].dtypes == 'O':\n",
        "    bank1=bank1.drop([i],1)\n",
        "bank1.shape"
      ],
      "execution_count": 873,
      "outputs": [
        {
          "output_type": "execute_result",
          "data": {
            "text/plain": [
              "(10098, 6)"
            ]
          },
          "metadata": {
            "tags": []
          },
          "execution_count": 873
        }
      ]
    },
    {
      "cell_type": "code",
      "metadata": {
        "id": "pqyV7T2kOaCd",
        "colab_type": "code",
        "colab": {
          "base_uri": "https://localhost:8080/",
          "height": 297
        },
        "outputId": "d52f63d3-17c8-4462-f49e-922aecb3c6a4"
      },
      "source": [
        "bank1.describe()"
      ],
      "execution_count": 874,
      "outputs": [
        {
          "output_type": "execute_result",
          "data": {
            "text/html": [
              "<div>\n",
              "<style scoped>\n",
              "    .dataframe tbody tr th:only-of-type {\n",
              "        vertical-align: middle;\n",
              "    }\n",
              "\n",
              "    .dataframe tbody tr th {\n",
              "        vertical-align: top;\n",
              "    }\n",
              "\n",
              "    .dataframe thead th {\n",
              "        text-align: right;\n",
              "    }\n",
              "</style>\n",
              "<table border=\"1\" class=\"dataframe\">\n",
              "  <thead>\n",
              "    <tr style=\"text-align: right;\">\n",
              "      <th></th>\n",
              "      <th>age</th>\n",
              "      <th>balance</th>\n",
              "      <th>duration</th>\n",
              "      <th>campaign</th>\n",
              "      <th>pdays</th>\n",
              "      <th>previous</th>\n",
              "    </tr>\n",
              "  </thead>\n",
              "  <tbody>\n",
              "    <tr>\n",
              "      <th>count</th>\n",
              "      <td>10098.000000</td>\n",
              "      <td>10098.000000</td>\n",
              "      <td>10098.000000</td>\n",
              "      <td>10098.000000</td>\n",
              "      <td>10098.000000</td>\n",
              "      <td>10098.000000</td>\n",
              "    </tr>\n",
              "    <tr>\n",
              "      <th>mean</th>\n",
              "      <td>40.713409</td>\n",
              "      <td>1233.583878</td>\n",
              "      <td>349.452664</td>\n",
              "      <td>2.246286</td>\n",
              "      <td>42.568132</td>\n",
              "      <td>0.593286</td>\n",
              "    </tr>\n",
              "    <tr>\n",
              "      <th>std</th>\n",
              "      <td>11.181180</td>\n",
              "      <td>1840.318704</td>\n",
              "      <td>291.533203</td>\n",
              "      <td>1.691887</td>\n",
              "      <td>91.737769</td>\n",
              "      <td>1.334833</td>\n",
              "    </tr>\n",
              "    <tr>\n",
              "      <th>min</th>\n",
              "      <td>18.000000</td>\n",
              "      <td>-6847.000000</td>\n",
              "      <td>2.000000</td>\n",
              "      <td>1.000000</td>\n",
              "      <td>-1.000000</td>\n",
              "      <td>0.000000</td>\n",
              "    </tr>\n",
              "    <tr>\n",
              "      <th>25%</th>\n",
              "      <td>32.000000</td>\n",
              "      <td>113.000000</td>\n",
              "      <td>137.000000</td>\n",
              "      <td>1.000000</td>\n",
              "      <td>-1.000000</td>\n",
              "      <td>0.000000</td>\n",
              "    </tr>\n",
              "    <tr>\n",
              "      <th>50%</th>\n",
              "      <td>38.000000</td>\n",
              "      <td>519.500000</td>\n",
              "      <td>251.000000</td>\n",
              "      <td>2.000000</td>\n",
              "      <td>-1.000000</td>\n",
              "      <td>0.000000</td>\n",
              "    </tr>\n",
              "    <tr>\n",
              "      <th>75%</th>\n",
              "      <td>49.000000</td>\n",
              "      <td>1603.500000</td>\n",
              "      <td>479.000000</td>\n",
              "      <td>3.000000</td>\n",
              "      <td>-1.000000</td>\n",
              "      <td>0.000000</td>\n",
              "    </tr>\n",
              "    <tr>\n",
              "      <th>max</th>\n",
              "      <td>76.000000</td>\n",
              "      <td>11174.000000</td>\n",
              "      <td>1410.000000</td>\n",
              "      <td>10.000000</td>\n",
              "      <td>375.000000</td>\n",
              "      <td>7.000000</td>\n",
              "    </tr>\n",
              "  </tbody>\n",
              "</table>\n",
              "</div>"
            ],
            "text/plain": [
              "                age       balance  ...         pdays      previous\n",
              "count  10098.000000  10098.000000  ...  10098.000000  10098.000000\n",
              "mean      40.713409   1233.583878  ...     42.568132      0.593286\n",
              "std       11.181180   1840.318704  ...     91.737769      1.334833\n",
              "min       18.000000  -6847.000000  ...     -1.000000      0.000000\n",
              "25%       32.000000    113.000000  ...     -1.000000      0.000000\n",
              "50%       38.000000    519.500000  ...     -1.000000      0.000000\n",
              "75%       49.000000   1603.500000  ...     -1.000000      0.000000\n",
              "max       76.000000  11174.000000  ...    375.000000      7.000000\n",
              "\n",
              "[8 rows x 6 columns]"
            ]
          },
          "metadata": {
            "tags": []
          },
          "execution_count": 874
        }
      ]
    },
    {
      "cell_type": "code",
      "metadata": {
        "id": "YpTiTvT_nqN3",
        "colab_type": "code",
        "colab": {}
      },
      "source": [
        "bank_skew=pd.DataFrame()\n",
        "bank_skew['age']=np.sqrt(bank['age'])\n",
        "bank_skew['balance']=bank['balance']\n",
        "bank_skew['duration']=np.sqrt(bank['duration'])\n",
        "bank_skew['campaign']=bank['campaign']\n",
        "bank_skew['pdays']=bank['pdays']\n",
        "bank_skew['previous']=bank['previous']"
      ],
      "execution_count": 0,
      "outputs": []
    },
    {
      "cell_type": "markdown",
      "metadata": {
        "id": "Ao4epHzXp5td",
        "colab_type": "text"
      },
      "source": [
        "**Scaling**"
      ]
    },
    {
      "cell_type": "code",
      "metadata": {
        "id": "78a8vI_YnGGg",
        "colab_type": "code",
        "colab": {}
      },
      "source": [
        "from sklearn.preprocessing import StandardScaler\n",
        "scaler = StandardScaler()\n",
        "x_scaled=scaler.fit_transform(bank_skew)\n",
        "x_scaled=pd.DataFrame(x_scaled)"
      ],
      "execution_count": 0,
      "outputs": []
    },
    {
      "cell_type": "code",
      "metadata": {
        "id": "4kRdkqYlnDXJ",
        "colab_type": "code",
        "colab": {
          "base_uri": "https://localhost:8080/",
          "height": 607
        },
        "outputId": "fade477b-3f4d-41b4-d4cb-4541ede9022c"
      },
      "source": [
        "#Histogram of Numerical Variables\n",
        "fig, axs = plt.subplots(2, 3, figsize=(15, 10))\n",
        "\n",
        "colors = ['pink']\n",
        "axs[0, 0].hist(x_scaled[0])\n",
        "axs[0, 0].set_title('age')\n",
        "\n",
        "axs[0, 1].hist(x_scaled[1])\n",
        "axs[0, 1].set_title('balance')\n",
        "\n",
        "axs[0, 2].hist(x_scaled[2])\n",
        "axs[0, 2].set_title('duration')\n",
        "\n",
        "axs[1, 0].hist(x_scaled[3])\n",
        "axs[1, 0].set_title('campaign')\n",
        "\n",
        "axs[1, 1].hist(x_scaled[4])\n",
        "axs[1, 1].set_title('pdays')\n",
        "\n",
        "axs[1, 2].hist(x_scaled[5])\n",
        "axs[1, 2].set_title('previous')\n",
        "\n",
        "plt.show()"
      ],
      "execution_count": 878,
      "outputs": [
        {
          "output_type": "display_data",
          "data": {
            "image/png": "[encoded data removed]",
            "text/plain": [
              "<Figure size 1080x720 with 6 Axes>"
            ]
          },
          "metadata": {
            "tags": []
          }
        }
      ]
    },
    {
      "cell_type": "code",
      "metadata": {
        "id": "9m1kHP8CrQBj",
        "colab_type": "code",
        "colab": {}
      },
      "source": [
        "bank=bank.drop(['age','pdays','previous','balance','campaign','duration'],1)\n",
        "bank=np.array(bank)\n",
        "bank=pd.DataFrame(bank)"
      ],
      "execution_count": 0,
      "outputs": []
    },
    {
      "cell_type": "code",
      "metadata": {
        "id": "2w9Xg3BFqDm-",
        "colab_type": "code",
        "colab": {}
      },
      "source": [
        "bank['age']=x_scaled[0]\n",
        "bank['balance']=x_scaled[1]\n",
        "bank['duration']=x_scaled[2]\n",
        "bank['campaign']=x_scaled[3]\n",
        "bank['pdays']=x_scaled[4]\n",
        "bank['previous']=x_scaled[5]"
      ],
      "execution_count": 0,
      "outputs": []
    },
    {
      "cell_type": "code",
      "metadata": {
        "id": "4mgvVkKmqpxD",
        "colab_type": "code",
        "colab": {}
      },
      "source": [
        "bank=bank.rename(columns={0:'job',1:'marital',2:'education',3:'default',4:'housing',5:'loan',6:'contact',7:'month',8:'poutcome',9:'deposit',10:'week'})"
      ],
      "execution_count": 0,
      "outputs": []
    },
    {
      "cell_type": "code",
      "metadata": {
        "id": "6IPiE5JAixUt",
        "colab_type": "code",
        "colab": {
          "base_uri": "https://localhost:8080/",
          "height": 425
        },
        "outputId": "50b7c731-564e-4d0a-bc08-1d027b2b8aea"
      },
      "source": [
        "bank.info()"
      ],
      "execution_count": 882,
      "outputs": [
        {
          "output_type": "stream",
          "text": [
            "<class 'pandas.core.frame.DataFrame'>\n",
            "RangeIndex: 10098 entries, 0 to 10097\n",
            "Data columns (total 17 columns):\n",
            " #   Column     Non-Null Count  Dtype  \n",
            "---  ------     --------------  -----  \n",
            " 0   job        10098 non-null  object \n",
            " 1   marital    10098 non-null  object \n",
            " 2   education  10098 non-null  object \n",
            " 3   default    10098 non-null  object \n",
            " 4   housing    10098 non-null  object \n",
            " 5   loan       10098 non-null  object \n",
            " 6   contact    10098 non-null  object \n",
            " 7   month      10098 non-null  object \n",
            " 8   poutcome   10098 non-null  object \n",
            " 9   deposit    10098 non-null  object \n",
            " 10  week       10098 non-null  object \n",
            " 11  age        10098 non-null  float64\n",
            " 12  balance    10098 non-null  float64\n",
            " 13  duration   10098 non-null  float64\n",
            " 14  campaign   10098 non-null  float64\n",
            " 15  pdays      10098 non-null  float64\n",
            " 16  previous   10098 non-null  float64\n",
            "dtypes: float64(6), object(11)\n",
            "memory usage: 1.3+ MB\n"
          ],
          "name": "stdout"
        }
      ]
    },
    {
      "cell_type": "markdown",
      "metadata": {
        "id": "d83FJnFuB-fn",
        "colab_type": "text"
      },
      "source": [
        "**Categorical encoding**"
      ]
    },
    {
      "cell_type": "code",
      "metadata": {
        "id": "oyUj_aN9ARyf",
        "colab_type": "code",
        "colab": {}
      },
      "source": [
        "#Based on correlation on feature engineering step, age has a lowest correlation with label\n",
        "bank=bank.drop(['age'],1)"
      ],
      "execution_count": 0,
      "outputs": []
    },
    {
      "cell_type": "code",
      "metadata": {
        "id": "bpsdIDE6oATw",
        "colab_type": "code",
        "colab": {}
      },
      "source": [
        "dict_of_feature_column = {}\n",
        "for i in bank.columns:\n",
        "  #for Categorical Features That Only Contain 'Yes' and 'No'-> 1 & 0\n",
        "  if bank[i].unique().dtype == np.object:\n",
        "    if ('yes' and 'no' in bank[i].unique()) and (len(bank[i].unique()) == 2):\n",
        "      bank[i] = bank[i].replace('yes', 1)\n",
        "      bank[i] = bank[i].replace('no', 0)\n",
        "      dict_of_feature_column[i] = feature_column.numeric_column(i)\n",
        "    elif i=='education':\n",
        "      bank[i]=bank[i].replace({'unknown':0,'primary': 1, 'secondary': 2, 'tertiary': 3 })\n",
        "      dict_of_feature_column[i] = feature_column.numeric_column(i)\n",
        "    else:\n",
        "      temp = feature_column.categorical_column_with_vocabulary_list(i, bank[i].unique())\n",
        "      dict_of_feature_column[i] = feature_column.indicator_column(temp)\n",
        "    \n",
        "  else:\n",
        "    dict_of_feature_column[i] = feature_column.numeric_column(i)"
      ],
      "execution_count": 0,
      "outputs": []
    },
    {
      "cell_type": "markdown",
      "metadata": {
        "id": "1dHgfV5M9UP6",
        "colab_type": "text"
      },
      "source": [
        "## **Feature Engineering**"
      ]
    },
    {
      "cell_type": "markdown",
      "metadata": {
        "id": "kge9YvfS9MtF",
        "colab_type": "text"
      },
      "source": [
        "**Capturing Feature Relationship**"
      ]
    },
    {
      "cell_type": "code",
      "metadata": {
        "id": "adNpBNtljWLz",
        "colab_type": "code",
        "colab": {}
      },
      "source": [
        "bank['deposit'] = bank['deposit'].replace('yes', 1)\n",
        "bank['deposit'] = bank['deposit'].replace('no', 0)"
      ],
      "execution_count": 0,
      "outputs": []
    },
    {
      "cell_type": "markdown",
      "metadata": {
        "id": "SeaWpwcF9a9b",
        "colab_type": "text"
      },
      "source": [
        "Correlation Between Numerical Features and Label"
      ]
    },
    {
      "cell_type": "code",
      "metadata": {
        "id": "JPo25N14jZ1n",
        "colab_type": "code",
        "colab": {
          "base_uri": "https://localhost:8080/",
          "height": 326
        },
        "outputId": "51489e43-1724-4fcf-b346-e3d8935227dc"
      },
      "source": [
        "sns.heatmap(bank.corr())"
      ],
      "execution_count": 886,
      "outputs": [
        {
          "output_type": "execute_result",
          "data": {
            "text/plain": [
              "<matplotlib.axes._subplots.AxesSubplot at 0x7fd7d4bba2b0>"
            ]
          },
          "metadata": {
            "tags": []
          },
          "execution_count": 886
        },
        {
          "output_type": "display_data",
          "data": {
            "image/png": "[encoded data removed]",
            "text/plain": [
              "<Figure size 432x288 with 2 Axes>"
            ]
          },
          "metadata": {
            "tags": []
          }
        }
      ]
    },
    {
      "cell_type": "code",
      "metadata": {
        "id": "qME47-TY5eio",
        "colab_type": "code",
        "colab": {
          "base_uri": "https://localhost:8080/",
          "height": 359
        },
        "outputId": "b2afefda-6a6a-462e-8824-f35a8194342c"
      },
      "source": [
        "bank.corr()"
      ],
      "execution_count": 887,
      "outputs": [
        {
          "output_type": "execute_result",
          "data": {
            "text/html": [
              "<div>\n",
              "<style scoped>\n",
              "    .dataframe tbody tr th:only-of-type {\n",
              "        vertical-align: middle;\n",
              "    }\n",
              "\n",
              "    .dataframe tbody tr th {\n",
              "        vertical-align: top;\n",
              "    }\n",
              "\n",
              "    .dataframe thead th {\n",
              "        text-align: right;\n",
              "    }\n",
              "</style>\n",
              "<table border=\"1\" class=\"dataframe\">\n",
              "  <thead>\n",
              "    <tr style=\"text-align: right;\">\n",
              "      <th></th>\n",
              "      <th>education</th>\n",
              "      <th>default</th>\n",
              "      <th>housing</th>\n",
              "      <th>loan</th>\n",
              "      <th>deposit</th>\n",
              "      <th>balance</th>\n",
              "      <th>duration</th>\n",
              "      <th>campaign</th>\n",
              "      <th>pdays</th>\n",
              "      <th>previous</th>\n",
              "    </tr>\n",
              "  </thead>\n",
              "  <tbody>\n",
              "    <tr>\n",
              "      <th>education</th>\n",
              "      <td>1.000000</td>\n",
              "      <td>-0.022762</td>\n",
              "      <td>-0.060735</td>\n",
              "      <td>-0.019928</td>\n",
              "      <td>0.083937</td>\n",
              "      <td>0.023716</td>\n",
              "      <td>0.008139</td>\n",
              "      <td>-0.009730</td>\n",
              "      <td>0.019452</td>\n",
              "      <td>0.053432</td>\n",
              "    </tr>\n",
              "    <tr>\n",
              "      <th>default</th>\n",
              "      <td>-0.022762</td>\n",
              "      <td>1.000000</td>\n",
              "      <td>0.008778</td>\n",
              "      <td>0.077839</td>\n",
              "      <td>-0.034083</td>\n",
              "      <td>-0.090422</td>\n",
              "      <td>0.003046</td>\n",
              "      <td>0.013564</td>\n",
              "      <td>-0.036568</td>\n",
              "      <td>-0.043045</td>\n",
              "    </tr>\n",
              "    <tr>\n",
              "      <th>housing</th>\n",
              "      <td>-0.060735</td>\n",
              "      <td>0.008778</td>\n",
              "      <td>1.000000</td>\n",
              "      <td>0.074474</td>\n",
              "      <td>-0.213892</td>\n",
              "      <td>-0.088565</td>\n",
              "      <td>0.009692</td>\n",
              "      <td>-0.010234</td>\n",
              "      <td>0.079502</td>\n",
              "      <td>-0.022963</td>\n",
              "    </tr>\n",
              "    <tr>\n",
              "      <th>loan</th>\n",
              "      <td>-0.019928</td>\n",
              "      <td>0.077839</td>\n",
              "      <td>0.074474</td>\n",
              "      <td>1.000000</td>\n",
              "      <td>-0.108103</td>\n",
              "      <td>-0.106776</td>\n",
              "      <td>-0.019997</td>\n",
              "      <td>0.027303</td>\n",
              "      <td>-0.022532</td>\n",
              "      <td>-0.039929</td>\n",
              "    </tr>\n",
              "    <tr>\n",
              "      <th>deposit</th>\n",
              "      <td>0.083937</td>\n",
              "      <td>-0.034083</td>\n",
              "      <td>-0.213892</td>\n",
              "      <td>-0.108103</td>\n",
              "      <td>1.000000</td>\n",
              "      <td>0.115635</td>\n",
              "      <td>0.512178</td>\n",
              "      <td>-0.117778</td>\n",
              "      <td>0.126916</td>\n",
              "      <td>0.192447</td>\n",
              "    </tr>\n",
              "    <tr>\n",
              "      <th>balance</th>\n",
              "      <td>0.023716</td>\n",
              "      <td>-0.090422</td>\n",
              "      <td>-0.088565</td>\n",
              "      <td>-0.106776</td>\n",
              "      <td>0.115635</td>\n",
              "      <td>1.000000</td>\n",
              "      <td>0.033891</td>\n",
              "      <td>-0.017784</td>\n",
              "      <td>0.021685</td>\n",
              "      <td>0.046438</td>\n",
              "    </tr>\n",
              "    <tr>\n",
              "      <th>duration</th>\n",
              "      <td>0.008139</td>\n",
              "      <td>0.003046</td>\n",
              "      <td>0.009692</td>\n",
              "      <td>-0.019997</td>\n",
              "      <td>0.512178</td>\n",
              "      <td>0.033891</td>\n",
              "      <td>1.000000</td>\n",
              "      <td>-0.048090</td>\n",
              "      <td>-0.001280</td>\n",
              "      <td>-0.000505</td>\n",
              "    </tr>\n",
              "    <tr>\n",
              "      <th>campaign</th>\n",
              "      <td>-0.009730</td>\n",
              "      <td>0.013564</td>\n",
              "      <td>-0.010234</td>\n",
              "      <td>0.027303</td>\n",
              "      <td>-0.117778</td>\n",
              "      <td>-0.017784</td>\n",
              "      <td>-0.048090</td>\n",
              "      <td>1.000000</td>\n",
              "      <td>-0.090835</td>\n",
              "      <td>-0.073653</td>\n",
              "    </tr>\n",
              "    <tr>\n",
              "      <th>pdays</th>\n",
              "      <td>0.019452</td>\n",
              "      <td>-0.036568</td>\n",
              "      <td>0.079502</td>\n",
              "      <td>-0.022532</td>\n",
              "      <td>0.126916</td>\n",
              "      <td>0.021685</td>\n",
              "      <td>-0.001280</td>\n",
              "      <td>-0.090835</td>\n",
              "      <td>1.000000</td>\n",
              "      <td>0.669647</td>\n",
              "    </tr>\n",
              "    <tr>\n",
              "      <th>previous</th>\n",
              "      <td>0.053432</td>\n",
              "      <td>-0.043045</td>\n",
              "      <td>-0.022963</td>\n",
              "      <td>-0.039929</td>\n",
              "      <td>0.192447</td>\n",
              "      <td>0.046438</td>\n",
              "      <td>-0.000505</td>\n",
              "      <td>-0.073653</td>\n",
              "      <td>0.669647</td>\n",
              "      <td>1.000000</td>\n",
              "    </tr>\n",
              "  </tbody>\n",
              "</table>\n",
              "</div>"
            ],
            "text/plain": [
              "           education   default   housing  ...  campaign     pdays  previous\n",
              "education   1.000000 -0.022762 -0.060735  ... -0.009730  0.019452  0.053432\n",
              "default    -0.022762  1.000000  0.008778  ...  0.013564 -0.036568 -0.043045\n",
              "housing    -0.060735  0.008778  1.000000  ... -0.010234  0.079502 -0.022963\n",
              "loan       -0.019928  0.077839  0.074474  ...  0.027303 -0.022532 -0.039929\n",
              "deposit     0.083937 -0.034083 -0.213892  ... -0.117778  0.126916  0.192447\n",
              "balance     0.023716 -0.090422 -0.088565  ... -0.017784  0.021685  0.046438\n",
              "duration    0.008139  0.003046  0.009692  ... -0.048090 -0.001280 -0.000505\n",
              "campaign   -0.009730  0.013564 -0.010234  ...  1.000000 -0.090835 -0.073653\n",
              "pdays       0.019452 -0.036568  0.079502  ... -0.090835  1.000000  0.669647\n",
              "previous    0.053432 -0.043045 -0.022963  ... -0.073653  0.669647  1.000000\n",
              "\n",
              "[10 rows x 10 columns]"
            ]
          },
          "metadata": {
            "tags": []
          },
          "execution_count": 887
        }
      ]
    },
    {
      "cell_type": "markdown",
      "metadata": {
        "id": "zwPG0Nnu9hXA",
        "colab_type": "text"
      },
      "source": [
        "Correlation Between Categorical Features and Label"
      ]
    },
    {
      "cell_type": "code",
      "metadata": {
        "id": "OYRa5huPyaRQ",
        "colab_type": "code",
        "colab": {}
      },
      "source": [
        "def cramers_v(x, y):\n",
        "    confusion_matrix = pd.crosstab(x,y)\n",
        "    chi2 = ss.chi2_contingency(confusion_matrix)[0]\n",
        "    n = confusion_matrix.sum().sum()\n",
        "    phi2 = chi2/n\n",
        "    r,k = confusion_matrix.shape\n",
        "    phi2corr = max(0, phi2-((k-1)*(r-1))/(n-1))\n",
        "    rcorr = r-((r-1)**2)/(n-1)\n",
        "    kcorr = k-((k-1)**2)/(n-1)\n",
        "    return np.sqrt(phi2corr/min((kcorr-1),(rcorr-1)))"
      ],
      "execution_count": 0,
      "outputs": []
    },
    {
      "cell_type": "code",
      "metadata": {
        "id": "od7A3g-jyaas",
        "colab_type": "code",
        "colab": {
          "base_uri": "https://localhost:8080/",
          "height": 235
        },
        "outputId": "34dae404-afe8-4f95-b0ed-ca3778a6689e"
      },
      "source": [
        "#Correlation Categorical Variables with Label\n",
        "column_name=[]\n",
        "bankcat=[]\n",
        "for i in bank.columns:\n",
        "  # for Categorical Features\n",
        "  if bank[i].unique().dtype == np.object:\n",
        "    result_cramer = cramers_v(bank['deposit'],bank[i])\n",
        "    bankcat.append(result_cramer)\n",
        "    column_name.append(i)\n",
        "corr_categoric=pd.DataFrame()\n",
        "corr_categoric[\"Variable\"]=list(column_name)\n",
        "corr_categoric[\"Correlatioan with Label\"]=list(bankcat)\n",
        "corr_categoric"
      ],
      "execution_count": 889,
      "outputs": [
        {
          "output_type": "execute_result",
          "data": {
            "text/html": [
              "<div>\n",
              "<style scoped>\n",
              "    .dataframe tbody tr th:only-of-type {\n",
              "        vertical-align: middle;\n",
              "    }\n",
              "\n",
              "    .dataframe tbody tr th {\n",
              "        vertical-align: top;\n",
              "    }\n",
              "\n",
              "    .dataframe thead th {\n",
              "        text-align: right;\n",
              "    }\n",
              "</style>\n",
              "<table border=\"1\" class=\"dataframe\">\n",
              "  <thead>\n",
              "    <tr style=\"text-align: right;\">\n",
              "      <th></th>\n",
              "      <th>Variable</th>\n",
              "      <th>Correlatioan with Label</th>\n",
              "    </tr>\n",
              "  </thead>\n",
              "  <tbody>\n",
              "    <tr>\n",
              "      <th>0</th>\n",
              "      <td>job</td>\n",
              "      <td>0.175603</td>\n",
              "    </tr>\n",
              "    <tr>\n",
              "      <th>1</th>\n",
              "      <td>marital</td>\n",
              "      <td>0.099565</td>\n",
              "    </tr>\n",
              "    <tr>\n",
              "      <th>2</th>\n",
              "      <td>contact</td>\n",
              "      <td>0.260612</td>\n",
              "    </tr>\n",
              "    <tr>\n",
              "      <th>3</th>\n",
              "      <td>month</td>\n",
              "      <td>0.315086</td>\n",
              "    </tr>\n",
              "    <tr>\n",
              "      <th>4</th>\n",
              "      <td>poutcome</td>\n",
              "      <td>0.295185</td>\n",
              "    </tr>\n",
              "    <tr>\n",
              "      <th>5</th>\n",
              "      <td>week</td>\n",
              "      <td>0.074393</td>\n",
              "    </tr>\n",
              "  </tbody>\n",
              "</table>\n",
              "</div>"
            ],
            "text/plain": [
              "   Variable  Correlatioan with Label\n",
              "0       job                 0.175603\n",
              "1   marital                 0.099565\n",
              "2   contact                 0.260612\n",
              "3     month                 0.315086\n",
              "4  poutcome                 0.295185\n",
              "5      week                 0.074393"
            ]
          },
          "metadata": {
            "tags": []
          },
          "execution_count": 889
        }
      ]
    },
    {
      "cell_type": "markdown",
      "metadata": {
        "id": "CfL2CTyM9lnS",
        "colab_type": "text"
      },
      "source": [
        "**Splitting The Data into Train and Test Set**"
      ]
    },
    {
      "cell_type": "code",
      "metadata": {
        "id": "6ea39Sc0j3SQ",
        "colab_type": "code",
        "colab": {
          "base_uri": "https://localhost:8080/",
          "height": 51
        },
        "outputId": "1c696669-2c17-478b-e7de-cc9f9c12a81f"
      },
      "source": [
        "import tensorflow as tf\n",
        "from tensorflow import feature_column\n",
        "from tensorflow.keras import layers\n",
        "from sklearn.model_selection import train_test_split\n",
        "from sklearn.metrics import classification_report, confusion_matrix, f1_score\n",
        "batch_size = 64\n",
        "bank = bank.reindex(sorted(bank.columns), axis=1)\n",
        "x = bank.copy()\n",
        "y = x.pop('deposit')\n",
        "x_train, x_test, y_train, y_test = train_test_split(\n",
        "    x,y,test_size=0.3)\n",
        "# x_test, x_val, y_test, y_val = train_test_split(\n",
        "#     x_test,y_test,test_size=0.2)\n",
        "# train, test = train_test_split(bank, test_size=0.25)\n",
        "# test, val = train_test_split(test, test_size=0.25)\n",
        "print(\"Train: \", len(x_train))\n",
        "print(\"Test : \", len(x_test))\n",
        "# print(\"Val  : \", len(x_val))\n",
        "train_ds = tf.data.Dataset.from_tensor_slices((dict(x_train), y_train))\n",
        "train_ds = train_ds.batch(batch_size)\n",
        "test_ds = tf.data.Dataset.from_tensor_slices((dict(x_test), y_test))\n",
        "test_ds = test_ds.batch(batch_size)\n",
        "# val_ds = tf.data.Dataset.from_tensor_slices((dict(x_val), y_val))\n",
        "# val_ds = val_ds.batch(batch_size)"
      ],
      "execution_count": 890,
      "outputs": [
        {
          "output_type": "stream",
          "text": [
            "Train:  7068\n",
            "Test :  3030\n"
          ],
          "name": "stdout"
        }
      ]
    },
    {
      "cell_type": "code",
      "metadata": {
        "id": "zJ858gMFj3YQ",
        "colab_type": "code",
        "colab": {}
      },
      "source": [
        "# Delete the Target from Features\n",
        "del dict_of_feature_column['deposit']"
      ],
      "execution_count": 0,
      "outputs": []
    },
    {
      "cell_type": "markdown",
      "metadata": {
        "id": "JPS3q38u90gK",
        "colab_type": "text"
      },
      "source": [
        "# **Neural Network**"
      ]
    },
    {
      "cell_type": "code",
      "metadata": {
        "id": "p2Wt3PrWj3ba",
        "colab_type": "code",
        "colab": {}
      },
      "source": [
        "feature_layer = tf.keras.layers.DenseFeatures([v for v in dict_of_feature_column.values()])"
      ],
      "execution_count": 0,
      "outputs": []
    },
    {
      "cell_type": "code",
      "metadata": {
        "id": "J5pBPTxnkzBw",
        "colab_type": "code",
        "colab": {}
      },
      "source": [
        "nn_model = tf.keras.Sequential([\n",
        "  feature_layer,\n",
        "  layers.Dense(30, activation='relu'),\n",
        "  layers.Dense(10, activation='relu'),\n",
        "  layers.Dense(1, activation='sigmoid')\n",
        "])"
      ],
      "execution_count": 0,
      "outputs": []
    },
    {
      "cell_type": "code",
      "metadata": {
        "id": "FS_3Ik5VkzFb",
        "colab_type": "code",
        "colab": {}
      },
      "source": [
        "from keras import backend as K\n",
        "\n",
        "def recall_m(y_true, y_pred):\n",
        "    true_positives = K.sum(K.round(K.clip(y_true * y_pred, 0, 1)))\n",
        "    possible_positives = K.sum(K.round(K.clip(y_true, 0, 1)))\n",
        "    recall = true_positives / (possible_positives + K.epsilon())\n",
        "    return recall\n",
        "\n",
        "def precision_m(y_true, y_pred):\n",
        "    true_positives = K.sum(K.round(K.clip(y_true * y_pred, 0, 1)))\n",
        "    predicted_positives = K.sum(K.round(K.clip(y_pred, 0, 1)))\n",
        "    precision = true_positives / (predicted_positives + K.epsilon())\n",
        "    return precision\n",
        "\n",
        "def f1_m(y_true, y_pred):\n",
        "    precision = precision_m(y_true, y_pred)\n",
        "    recall = recall_m(y_true, y_pred)\n",
        "    return 2*((precision*recall)/(precision+recall+K.epsilon()))"
      ],
      "execution_count": 0,
      "outputs": []
    },
    {
      "cell_type": "code",
      "metadata": {
        "id": "tY7YPeFnky_D",
        "colab_type": "code",
        "colab": {
          "base_uri": "https://localhost:8080/",
          "height": 921
        },
        "outputId": "493cda51-c2b3-4631-f465-4cfb77472726"
      },
      "source": [
        "nn_model.compile(optimizer='adam', \n",
        "                 loss='binary_crossentropy',\n",
        "                 metrics=['acc',f1_m,precision_m, recall_m])\n",
        "\n",
        "history = nn_model.fit(train_ds, \n",
        "                       #validation_data=val_ds,\n",
        "                       epochs=20)\n",
        "\n",
        "#loss, accuracy = nn_model.evaluate(test_ds)\n",
        "#print(\"Accuracy\", accuracy)\n",
        "loss, accuracy, f1_score, precision, recall = nn_model.evaluate(test_ds)\n",
        "print('Loss\\t\\t: ', loss)\n",
        "print('Accuracy\\t: ', accuracy)\n",
        "print('F1 Score\\t: ', f1_score)\n",
        "print('Precision\\t: ', precision)\n",
        "print('Recall\\t\\t: ', recall)"
      ],
      "execution_count": 895,
      "outputs": [
        {
          "output_type": "stream",
          "text": [
            "Epoch 1/20\n",
            "WARNING:tensorflow:Layer dense_features_18 is casting an input tensor from dtype float64 to the layer's dtype of float32, which is new behavior in TensorFlow 2.  The layer has dtype float32 because it's dtype defaults to floatx.\n",
            "\n",
            "If you intended to run this layer in float32, you can safely ignore this warning. If in doubt, this warning is likely only an issue if you are porting a TensorFlow 1.X model to TensorFlow 2.\n",
            "\n",
            "To change all layers to have dtype float64 by default, call `tf.keras.backend.set_floatx('float64')`. To change just this layer, pass dtype='float64' to the layer constructor. If you are the author of this layer, you can disable autocasting by passing autocast=False to the base Layer constructor.\n",
            "\n",
            "111/111 [==============================] - 0s 2ms/step - loss: 0.5323 - acc: 0.7419 - f1_m: 0.6874 - precision_m: 0.7432 - recall_m: 0.6554\n",
            "Epoch 2/20\n",
            "111/111 [==============================] - 0s 2ms/step - loss: 0.4006 - acc: 0.8182 - f1_m: 0.7988 - precision_m: 0.7919 - recall_m: 0.8127\n",
            "Epoch 3/20\n",
            "111/111 [==============================] - 0s 2ms/step - loss: 0.3789 - acc: 0.8314 - f1_m: 0.8139 - precision_m: 0.8041 - recall_m: 0.8304\n",
            "Epoch 4/20\n",
            "111/111 [==============================] - 0s 2ms/step - loss: 0.3700 - acc: 0.8345 - f1_m: 0.8179 - precision_m: 0.8057 - recall_m: 0.8367\n",
            "Epoch 5/20\n",
            "111/111 [==============================] - 0s 2ms/step - loss: 0.3642 - acc: 0.8373 - f1_m: 0.8210 - precision_m: 0.8088 - recall_m: 0.8398\n",
            "Epoch 6/20\n",
            "111/111 [==============================] - 0s 2ms/step - loss: 0.3596 - acc: 0.8390 - f1_m: 0.8227 - precision_m: 0.8092 - recall_m: 0.8430\n",
            "Epoch 7/20\n",
            "111/111 [==============================] - 0s 2ms/step - loss: 0.3553 - acc: 0.8414 - f1_m: 0.8250 - precision_m: 0.8121 - recall_m: 0.8443\n",
            "Epoch 8/20\n",
            "111/111 [==============================] - 0s 2ms/step - loss: 0.3515 - acc: 0.8424 - f1_m: 0.8259 - precision_m: 0.8126 - recall_m: 0.8455\n",
            "Epoch 9/20\n",
            "111/111 [==============================] - 0s 2ms/step - loss: 0.3480 - acc: 0.8451 - f1_m: 0.8289 - precision_m: 0.8155 - recall_m: 0.8486\n",
            "Epoch 10/20\n",
            "111/111 [==============================] - 0s 2ms/step - loss: 0.3447 - acc: 0.8466 - f1_m: 0.8307 - precision_m: 0.8171 - recall_m: 0.8505\n",
            "Epoch 11/20\n",
            "111/111 [==============================] - 0s 2ms/step - loss: 0.3414 - acc: 0.8479 - f1_m: 0.8323 - precision_m: 0.8185 - recall_m: 0.8524\n",
            "Epoch 12/20\n",
            "111/111 [==============================] - 0s 2ms/step - loss: 0.3383 - acc: 0.8506 - f1_m: 0.8357 - precision_m: 0.8207 - recall_m: 0.8571\n",
            "Epoch 13/20\n",
            "111/111 [==============================] - 0s 2ms/step - loss: 0.3351 - acc: 0.8536 - f1_m: 0.8389 - precision_m: 0.8228 - recall_m: 0.8610\n",
            "Epoch 14/20\n",
            "111/111 [==============================] - 0s 2ms/step - loss: 0.3321 - acc: 0.8553 - f1_m: 0.8406 - precision_m: 0.8248 - recall_m: 0.8622\n",
            "Epoch 15/20\n",
            "111/111 [==============================] - 0s 2ms/step - loss: 0.3292 - acc: 0.8560 - f1_m: 0.8414 - precision_m: 0.8250 - recall_m: 0.8636\n",
            "Epoch 16/20\n",
            "111/111 [==============================] - 0s 2ms/step - loss: 0.3264 - acc: 0.8577 - f1_m: 0.8436 - precision_m: 0.8260 - recall_m: 0.8669\n",
            "Epoch 17/20\n",
            "111/111 [==============================] - 0s 3ms/step - loss: 0.3239 - acc: 0.8584 - f1_m: 0.8444 - precision_m: 0.8262 - recall_m: 0.8686\n",
            "Epoch 18/20\n",
            "111/111 [==============================] - 0s 3ms/step - loss: 0.3215 - acc: 0.8605 - f1_m: 0.8468 - precision_m: 0.8284 - recall_m: 0.8706\n",
            "Epoch 19/20\n",
            "111/111 [==============================] - 0s 3ms/step - loss: 0.3191 - acc: 0.8640 - f1_m: 0.8510 - precision_m: 0.8320 - recall_m: 0.8757\n",
            "Epoch 20/20\n",
            "111/111 [==============================] - 0s 2ms/step - loss: 0.3168 - acc: 0.8652 - f1_m: 0.8524 - precision_m: 0.8329 - recall_m: 0.8774\n",
            "48/48 [==============================] - 0s 2ms/step - loss: 0.3564 - acc: 0.8508 - f1_m: 0.8429 - precision_m: 0.8150 - recall_m: 0.8777\n",
            "Loss\t\t:  0.3563860356807709\n",
            "Accuracy\t:  0.8508250713348389\n",
            "F1 Score\t:  0.8429161906242371\n",
            "Precision\t:  0.8149945735931396\n",
            "Recall\t\t:  0.877691924571991\n"
          ],
          "name": "stdout"
        }
      ]
    }
  ]
}